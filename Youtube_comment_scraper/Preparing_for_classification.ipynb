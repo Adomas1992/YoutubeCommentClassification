{
 "cells": [
  {
   "cell_type": "code",
   "execution_count": 1,
   "metadata": {},
   "outputs": [],
   "source": [
    "import pandas as pd\n",
    "\n",
    "# Loading the comments dataset\n",
    "comments_df = pd.read_csv(\"comments.csv\")"
   ]
  },
  {
   "cell_type": "code",
   "execution_count": 2,
   "metadata": {},
   "outputs": [
    {
     "name": "stdout",
     "output_type": "stream",
     "text": [
      "Label\n",
      "2    151\n",
      "0     77\n",
      "1     72\n",
      "Name: count, dtype: int64\n"
     ]
    }
   ],
   "source": [
    "df = pd.read_csv(\"comment_sample.csv\")\n",
    "label_counts = df[\"Label\"].value_counts()\n",
    "\n",
    "print(label_counts)"
   ]
  },
  {
   "cell_type": "markdown",
   "metadata": {},
   "source": [
    "\n",
    "### Sample Labeling for Testing\n",
    "\n",
    "In preparation for testing my fine-tuned DistilBERT model, I manually labeled a sample of 300 YouTube comments. The labeling process involved categorizing comments into three sentiment classes: 2 for neutral, 1 for positive, and 0 for negative. However, as the model was fine-tuned specifically for positive and negative sentiment analysis, I plan to remove the neutral class during evaluation to focus on the target sentiments.\n",
    "\n",
    "The positive and negative sentiment classes turned out to be randomly distributed, with approximately equal weighting. In the sample, there were 72 positive comments and 77 negative comments, while the remaining comments were labeled as neutral. This labeled sample will be used to assess the model's performance on YouTube comments, providing valuable insights into its ability to classify sentiments effectively."
   ]
  },
  {
   "cell_type": "code",
   "execution_count": 3,
   "metadata": {},
   "outputs": [
    {
     "data": {
      "text/html": [
       "<div>\n",
       "<style scoped>\n",
       "    .dataframe tbody tr th:only-of-type {\n",
       "        vertical-align: middle;\n",
       "    }\n",
       "\n",
       "    .dataframe tbody tr th {\n",
       "        vertical-align: top;\n",
       "    }\n",
       "\n",
       "    .dataframe thead th {\n",
       "        text-align: right;\n",
       "    }\n",
       "</style>\n",
       "<table border=\"1\" class=\"dataframe\">\n",
       "  <thead>\n",
       "    <tr style=\"text-align: right;\">\n",
       "      <th></th>\n",
       "      <th>Comment</th>\n",
       "      <th>Label</th>\n",
       "    </tr>\n",
       "  </thead>\n",
       "  <tbody>\n",
       "    <tr>\n",
       "      <th>5</th>\n",
       "      <td>You guys are clueless about buyers agents. The...</td>\n",
       "      <td>0</td>\n",
       "    </tr>\n",
       "    <tr>\n",
       "      <th>7</th>\n",
       "      <td>This guy sounds like ChatGpt wrote him 😂</td>\n",
       "      <td>0</td>\n",
       "    </tr>\n",
       "    <tr>\n",
       "      <th>10</th>\n",
       "      <td>These woke, sorry “red pill” takers, are going...</td>\n",
       "      <td>0</td>\n",
       "    </tr>\n",
       "    <tr>\n",
       "      <th>12</th>\n",
       "      <td>Jcal is killing it lately lol🤣</td>\n",
       "      <td>1</td>\n",
       "    </tr>\n",
       "    <tr>\n",
       "      <th>15</th>\n",
       "      <td>I love you JCAL!!</td>\n",
       "      <td>1</td>\n",
       "    </tr>\n",
       "  </tbody>\n",
       "</table>\n",
       "</div>"
      ],
      "text/plain": [
       "                                              Comment  Label\n",
       "5   You guys are clueless about buyers agents. The...      0\n",
       "7            This guy sounds like ChatGpt wrote him 😂      0\n",
       "10  These woke, sorry “red pill” takers, are going...      0\n",
       "12                     Jcal is killing it lately lol🤣      1\n",
       "15                                  I love you JCAL!!      1"
      ]
     },
     "execution_count": 3,
     "metadata": {},
     "output_type": "execute_result"
    }
   ],
   "source": [
    "df_test = df.drop(columns=\"Comment ID\")\n",
    "\n",
    "df_test = df_test[df_test[\"Label\"] != 2]\n",
    "\n",
    "df_test.head()"
   ]
  },
  {
   "cell_type": "code",
   "execution_count": 4,
   "metadata": {},
   "outputs": [],
   "source": [
    "import pandas as pd\n",
    "\n",
    "df_test[\"Comment\"] = df_test[\"Comment\"].astype(str)\n",
    "\n",
    "# Preprocess the \"Comment\" column in one line:\n",
    "df_test[\"Comment\"] = df_test[\"Comment\"].str.lower().str.replace(r\"[^a-z0-9\\s]\", \"\", regex=True).str.strip().str.replace(r\"\\s+\", \" \", regex=True)"
   ]
  },
  {
   "cell_type": "code",
   "execution_count": 5,
   "metadata": {},
   "outputs": [
    {
     "name": "stdout",
     "output_type": "stream",
     "text": [
      "WARNING:tensorflow:From C:\\Users\\afise\\AppData\\Local\\Packages\\PythonSoftwareFoundation.Python.3.11_qbz5n2kfra8p0\\LocalCache\\local-packages\\Python311\\site-packages\\keras\\src\\losses.py:2976: The name tf.losses.sparse_softmax_cross_entropy is deprecated. Please use tf.compat.v1.losses.sparse_softmax_cross_entropy instead.\n",
      "\n"
     ]
    },
    {
     "name": "stderr",
     "output_type": "stream",
     "text": [
      "C:\\Users\\afise\\AppData\\Local\\Packages\\PythonSoftwareFoundation.Python.3.11_qbz5n2kfra8p0\\LocalCache\\local-packages\\Python311\\site-packages\\tqdm\\auto.py:21: TqdmWarning: IProgress not found. Please update jupyter and ipywidgets. See https://ipywidgets.readthedocs.io/en/stable/user_install.html\n",
      "  from .autonotebook import tqdm as notebook_tqdm\n"
     ]
    }
   ],
   "source": [
    "import tensorflow as tf\n",
    "from transformers import DistilBertTokenizer\n",
    "\n",
    "tokenizer = DistilBertTokenizer.from_pretrained(\"distilbert-base-uncased\")\n",
    "\n",
    "# Extracting the comments from the test dataset\n",
    "youtube_comments = df_test[\"Comment\"].tolist()\n",
    "\n",
    "# Tokenizing the YouTube comments using the same tokinzer\n",
    "tokenized_youtube_comments = tokenizer(\n",
    "    youtube_comments,\n",
    "    padding=True,\n",
    "    truncation=True,\n",
    "    max_length=103,\n",
    "    return_tensors=\"tf\"\n",
    ")\n",
    "\n",
    "# Extracing input IDs and attenetion mask for the test dataset\n",
    "input_ids_test = tokenized_youtube_comments[\"input_ids\"]\n",
    "attention_mask_test = tokenized_youtube_comments[\"attention_mask\"]\n",
    "\n",
    "# Adding tokenized data to the original DataFrame for the test dataset\n",
    "df_test[\"input_ids\"] = input_ids_test.numpy().tolist()\n",
    "df_test[\"attention_mask\"] = attention_mask_test.numpy().tolist()"
   ]
  },
  {
   "cell_type": "code",
   "execution_count": 6,
   "metadata": {},
   "outputs": [],
   "source": [
    "df_test.head()\n",
    "\n",
    "df_test.to_csv(\"../Youtube_comment_scraper/df_test.csv\", index=False)"
   ]
  },
  {
   "cell_type": "code",
   "execution_count": 7,
   "metadata": {},
   "outputs": [],
   "source": [
    "import numpy as np\n",
    "\n",
    "input_ids_test = df_test[\"input_ids\"].tolist()\n",
    "attention_mask_test = df_test[\"attention_mask\"].tolist()\n",
    "\n",
    "# Converting lists to NumPy arrays for YouTube comment data\n",
    "input_ids_array = np.array(input_ids_test)\n",
    "attention_mask_array = np.array(attention_mask_test)\n",
    "\n",
    "# \"Label\" containts the ground truth for the YouTube comment data\n",
    "label_test = df_test[\"Label\"].values\n",
    "\n",
    "# Creating a dictionary for YouTube comment data\n",
    "test_data_np = {\n",
    "    \"input_ids\": input_ids_array,\n",
    "    \"attention_mask\": attention_mask_array\n",
    "}\n",
    "\n",
    "# Creating a TensorFlow dataset for the YouTube comment data\n",
    "test_dataset = tf.data.Dataset.from_tensor_slices((test_data_np, label_test))\n",
    "\n",
    "# Batching the YouTube comment data\n",
    "test_dataset = test_dataset.batch(batch_size=32).prefetch(tf.data.AUTOTUNE)"
   ]
  },
  {
   "cell_type": "code",
   "execution_count": 8,
   "metadata": {},
   "outputs": [
    {
     "name": "stdout",
     "output_type": "stream",
     "text": [
      "WARNING:tensorflow:From C:\\Users\\afise\\AppData\\Local\\Packages\\PythonSoftwareFoundation.Python.3.11_qbz5n2kfra8p0\\LocalCache\\local-packages\\Python311\\site-packages\\keras\\src\\backend.py:1398: The name tf.executing_eagerly_outside_functions is deprecated. Please use tf.compat.v1.executing_eagerly_outside_functions instead.\n",
      "\n"
     ]
    },
    {
     "name": "stderr",
     "output_type": "stream",
     "text": [
      "C:\\Users\\afise\\AppData\\Local\\Packages\\PythonSoftwareFoundation.Python.3.11_qbz5n2kfra8p0\\LocalCache\\local-packages\\Python311\\site-packages\\transformers\\generation\\tf_utils.py:465: UserWarning: `seed_generator` is deprecated and will be removed in a future version.\n",
      "  warnings.warn(\"`seed_generator` is deprecated and will be removed in a future version.\", UserWarning)\n"
     ]
    }
   ],
   "source": [
    "from transformers import TFDistilBertModel\n",
    "\n",
    "model_path = \"../NLP_model/best_sentiment_model.keras\"\n",
    "\n",
    "# Loading the best model from local directory\n",
    "loaded_model = tf.keras.models.load_model(\n",
    "    model_path,\n",
    "    custom_objects={\"TFDistilBertModel\": TFDistilBertModel}\n",
    ")"
   ]
  },
  {
   "cell_type": "code",
   "execution_count": 9,
   "metadata": {},
   "outputs": [
    {
     "name": "stdout",
     "output_type": "stream",
     "text": [
      "Model: \"model\"\n",
      "__________________________________________________________________________________________________\n",
      " Layer (type)                Output Shape                 Param #   Connected to                  \n",
      "==================================================================================================\n",
      " input_ids (InputLayer)      [(None, 103)]                0         []                            \n",
      "                                                                                                  \n",
      " attention_mask (InputLayer  [(None, 103)]                0         []                            \n",
      " )                                                                                                \n",
      "                                                                                                  \n",
      " tf_distil_bert_model (TFDi  TFBaseModelOutput(last_hid   6636288   ['input_ids[0][0]',           \n",
      " stilBertModel)              den_state=(None, 103, 768)   0          'attention_mask[0][0]']      \n",
      "                             , hidden_states=None, atte                                           \n",
      "                             ntions=None)                                                         \n",
      "                                                                                                  \n",
      " global_max_pooling1d (Glob  (None, 768)                  0         ['tf_distil_bert_model[0][0]']\n",
      " alMaxPooling1D)                                                                                  \n",
      "                                                                                                  \n",
      " dropout_19 (Dropout)        (None, 768)                  0         ['global_max_pooling1d[0][0]']\n",
      "                                                                                                  \n",
      " dense (Dense)               (None, 1)                    769       ['dropout_19[0][0]']          \n",
      "                                                                                                  \n",
      "==================================================================================================\n",
      "Total params: 66363649 (253.16 MB)\n",
      "Trainable params: 66363649 (253.16 MB)\n",
      "Non-trainable params: 0 (0.00 Byte)\n",
      "__________________________________________________________________________________________________\n"
     ]
    }
   ],
   "source": [
    "loaded_model.summary()"
   ]
  },
  {
   "cell_type": "markdown",
   "metadata": {},
   "source": [
    "The fine-tuned DistilBERT model, specifically trained for binary sentiment classification, is then loaded, retaining its task-specific configuration. This enables the model to predict sentiment based on its training with similar data.\n",
    "\n",
    "In the subsequent sections, the loaded DistilBERT model is applied to predict sentiment in the prepared YouTube comments. The analysis aims to reveal insights into the model's effectiveness in discerning sentiment within the context of user-generated content on the YouTube platform."
   ]
  },
  {
   "cell_type": "code",
   "execution_count": 10,
   "metadata": {},
   "outputs": [
    {
     "name": "stdout",
     "output_type": "stream",
     "text": [
      "tf_distil_bert_model/distilbert/embeddings/word_embeddings/weight:0 (30522, 768)\n",
      "tf_distil_bert_model/distilbert/embeddings/position_embeddings/embeddings:0 (512, 768)\n",
      "tf_distil_bert_model/distilbert/embeddings/LayerNorm/gamma:0 (768,)\n",
      "tf_distil_bert_model/distilbert/embeddings/LayerNorm/beta:0 (768,)\n",
      "tf_distil_bert_model/distilbert/transformer/layer_._0/attention/q_lin/kernel:0 (768, 768)\n",
      "tf_distil_bert_model/distilbert/transformer/layer_._0/attention/q_lin/bias:0 (768,)\n",
      "tf_distil_bert_model/distilbert/transformer/layer_._0/attention/k_lin/kernel:0 (768, 768)\n",
      "tf_distil_bert_model/distilbert/transformer/layer_._0/attention/k_lin/bias:0 (768,)\n",
      "tf_distil_bert_model/distilbert/transformer/layer_._0/attention/v_lin/kernel:0 (768, 768)\n",
      "tf_distil_bert_model/distilbert/transformer/layer_._0/attention/v_lin/bias:0 (768,)\n",
      "tf_distil_bert_model/distilbert/transformer/layer_._0/attention/out_lin/kernel:0 (768, 768)\n",
      "tf_distil_bert_model/distilbert/transformer/layer_._0/attention/out_lin/bias:0 (768,)\n",
      "tf_distil_bert_model/distilbert/transformer/layer_._0/sa_layer_norm/gamma:0 (768,)\n",
      "tf_distil_bert_model/distilbert/transformer/layer_._0/sa_layer_norm/beta:0 (768,)\n",
      "tf_distil_bert_model/distilbert/transformer/layer_._0/ffn/lin1/kernel:0 (768, 3072)\n",
      "tf_distil_bert_model/distilbert/transformer/layer_._0/ffn/lin1/bias:0 (3072,)\n",
      "tf_distil_bert_model/distilbert/transformer/layer_._0/ffn/lin2/kernel:0 (3072, 768)\n",
      "tf_distil_bert_model/distilbert/transformer/layer_._0/ffn/lin2/bias:0 (768,)\n",
      "tf_distil_bert_model/distilbert/transformer/layer_._0/output_layer_norm/gamma:0 (768,)\n",
      "tf_distil_bert_model/distilbert/transformer/layer_._0/output_layer_norm/beta:0 (768,)\n",
      "tf_distil_bert_model/distilbert/transformer/layer_._1/attention/q_lin/kernel:0 (768, 768)\n",
      "tf_distil_bert_model/distilbert/transformer/layer_._1/attention/q_lin/bias:0 (768,)\n",
      "tf_distil_bert_model/distilbert/transformer/layer_._1/attention/k_lin/kernel:0 (768, 768)\n",
      "tf_distil_bert_model/distilbert/transformer/layer_._1/attention/k_lin/bias:0 (768,)\n",
      "tf_distil_bert_model/distilbert/transformer/layer_._1/attention/v_lin/kernel:0 (768, 768)\n",
      "tf_distil_bert_model/distilbert/transformer/layer_._1/attention/v_lin/bias:0 (768,)\n",
      "tf_distil_bert_model/distilbert/transformer/layer_._1/attention/out_lin/kernel:0 (768, 768)\n",
      "tf_distil_bert_model/distilbert/transformer/layer_._1/attention/out_lin/bias:0 (768,)\n",
      "tf_distil_bert_model/distilbert/transformer/layer_._1/sa_layer_norm/gamma:0 (768,)\n",
      "tf_distil_bert_model/distilbert/transformer/layer_._1/sa_layer_norm/beta:0 (768,)\n",
      "tf_distil_bert_model/distilbert/transformer/layer_._1/ffn/lin1/kernel:0 (768, 3072)\n",
      "tf_distil_bert_model/distilbert/transformer/layer_._1/ffn/lin1/bias:0 (3072,)\n",
      "tf_distil_bert_model/distilbert/transformer/layer_._1/ffn/lin2/kernel:0 (3072, 768)\n",
      "tf_distil_bert_model/distilbert/transformer/layer_._1/ffn/lin2/bias:0 (768,)\n",
      "tf_distil_bert_model/distilbert/transformer/layer_._1/output_layer_norm/gamma:0 (768,)\n",
      "tf_distil_bert_model/distilbert/transformer/layer_._1/output_layer_norm/beta:0 (768,)\n",
      "tf_distil_bert_model/distilbert/transformer/layer_._2/attention/q_lin/kernel:0 (768, 768)\n",
      "tf_distil_bert_model/distilbert/transformer/layer_._2/attention/q_lin/bias:0 (768,)\n",
      "tf_distil_bert_model/distilbert/transformer/layer_._2/attention/k_lin/kernel:0 (768, 768)\n",
      "tf_distil_bert_model/distilbert/transformer/layer_._2/attention/k_lin/bias:0 (768,)\n",
      "tf_distil_bert_model/distilbert/transformer/layer_._2/attention/v_lin/kernel:0 (768, 768)\n",
      "tf_distil_bert_model/distilbert/transformer/layer_._2/attention/v_lin/bias:0 (768,)\n",
      "tf_distil_bert_model/distilbert/transformer/layer_._2/attention/out_lin/kernel:0 (768, 768)\n",
      "tf_distil_bert_model/distilbert/transformer/layer_._2/attention/out_lin/bias:0 (768,)\n",
      "tf_distil_bert_model/distilbert/transformer/layer_._2/sa_layer_norm/gamma:0 (768,)\n",
      "tf_distil_bert_model/distilbert/transformer/layer_._2/sa_layer_norm/beta:0 (768,)\n",
      "tf_distil_bert_model/distilbert/transformer/layer_._2/ffn/lin1/kernel:0 (768, 3072)\n",
      "tf_distil_bert_model/distilbert/transformer/layer_._2/ffn/lin1/bias:0 (3072,)\n",
      "tf_distil_bert_model/distilbert/transformer/layer_._2/ffn/lin2/kernel:0 (3072, 768)\n",
      "tf_distil_bert_model/distilbert/transformer/layer_._2/ffn/lin2/bias:0 (768,)\n",
      "tf_distil_bert_model/distilbert/transformer/layer_._2/output_layer_norm/gamma:0 (768,)\n",
      "tf_distil_bert_model/distilbert/transformer/layer_._2/output_layer_norm/beta:0 (768,)\n",
      "tf_distil_bert_model/distilbert/transformer/layer_._3/attention/q_lin/kernel:0 (768, 768)\n",
      "tf_distil_bert_model/distilbert/transformer/layer_._3/attention/q_lin/bias:0 (768,)\n",
      "tf_distil_bert_model/distilbert/transformer/layer_._3/attention/k_lin/kernel:0 (768, 768)\n",
      "tf_distil_bert_model/distilbert/transformer/layer_._3/attention/k_lin/bias:0 (768,)\n",
      "tf_distil_bert_model/distilbert/transformer/layer_._3/attention/v_lin/kernel:0 (768, 768)\n",
      "tf_distil_bert_model/distilbert/transformer/layer_._3/attention/v_lin/bias:0 (768,)\n",
      "tf_distil_bert_model/distilbert/transformer/layer_._3/attention/out_lin/kernel:0 (768, 768)\n",
      "tf_distil_bert_model/distilbert/transformer/layer_._3/attention/out_lin/bias:0 (768,)\n",
      "tf_distil_bert_model/distilbert/transformer/layer_._3/sa_layer_norm/gamma:0 (768,)\n",
      "tf_distil_bert_model/distilbert/transformer/layer_._3/sa_layer_norm/beta:0 (768,)\n",
      "tf_distil_bert_model/distilbert/transformer/layer_._3/ffn/lin1/kernel:0 (768, 3072)\n",
      "tf_distil_bert_model/distilbert/transformer/layer_._3/ffn/lin1/bias:0 (3072,)\n",
      "tf_distil_bert_model/distilbert/transformer/layer_._3/ffn/lin2/kernel:0 (3072, 768)\n",
      "tf_distil_bert_model/distilbert/transformer/layer_._3/ffn/lin2/bias:0 (768,)\n",
      "tf_distil_bert_model/distilbert/transformer/layer_._3/output_layer_norm/gamma:0 (768,)\n",
      "tf_distil_bert_model/distilbert/transformer/layer_._3/output_layer_norm/beta:0 (768,)\n",
      "tf_distil_bert_model/distilbert/transformer/layer_._4/attention/q_lin/kernel:0 (768, 768)\n",
      "tf_distil_bert_model/distilbert/transformer/layer_._4/attention/q_lin/bias:0 (768,)\n",
      "tf_distil_bert_model/distilbert/transformer/layer_._4/attention/k_lin/kernel:0 (768, 768)\n",
      "tf_distil_bert_model/distilbert/transformer/layer_._4/attention/k_lin/bias:0 (768,)\n",
      "tf_distil_bert_model/distilbert/transformer/layer_._4/attention/v_lin/kernel:0 (768, 768)\n",
      "tf_distil_bert_model/distilbert/transformer/layer_._4/attention/v_lin/bias:0 (768,)\n",
      "tf_distil_bert_model/distilbert/transformer/layer_._4/attention/out_lin/kernel:0 (768, 768)\n",
      "tf_distil_bert_model/distilbert/transformer/layer_._4/attention/out_lin/bias:0 (768,)\n",
      "tf_distil_bert_model/distilbert/transformer/layer_._4/sa_layer_norm/gamma:0 (768,)\n",
      "tf_distil_bert_model/distilbert/transformer/layer_._4/sa_layer_norm/beta:0 (768,)\n",
      "tf_distil_bert_model/distilbert/transformer/layer_._4/ffn/lin1/kernel:0 (768, 3072)\n",
      "tf_distil_bert_model/distilbert/transformer/layer_._4/ffn/lin1/bias:0 (3072,)\n",
      "tf_distil_bert_model/distilbert/transformer/layer_._4/ffn/lin2/kernel:0 (3072, 768)\n",
      "tf_distil_bert_model/distilbert/transformer/layer_._4/ffn/lin2/bias:0 (768,)\n",
      "tf_distil_bert_model/distilbert/transformer/layer_._4/output_layer_norm/gamma:0 (768,)\n",
      "tf_distil_bert_model/distilbert/transformer/layer_._4/output_layer_norm/beta:0 (768,)\n",
      "tf_distil_bert_model/distilbert/transformer/layer_._5/attention/q_lin/kernel:0 (768, 768)\n",
      "tf_distil_bert_model/distilbert/transformer/layer_._5/attention/q_lin/bias:0 (768,)\n",
      "tf_distil_bert_model/distilbert/transformer/layer_._5/attention/k_lin/kernel:0 (768, 768)\n",
      "tf_distil_bert_model/distilbert/transformer/layer_._5/attention/k_lin/bias:0 (768,)\n",
      "tf_distil_bert_model/distilbert/transformer/layer_._5/attention/v_lin/kernel:0 (768, 768)\n",
      "tf_distil_bert_model/distilbert/transformer/layer_._5/attention/v_lin/bias:0 (768,)\n",
      "tf_distil_bert_model/distilbert/transformer/layer_._5/attention/out_lin/kernel:0 (768, 768)\n",
      "tf_distil_bert_model/distilbert/transformer/layer_._5/attention/out_lin/bias:0 (768,)\n",
      "tf_distil_bert_model/distilbert/transformer/layer_._5/sa_layer_norm/gamma:0 (768,)\n",
      "tf_distil_bert_model/distilbert/transformer/layer_._5/sa_layer_norm/beta:0 (768,)\n",
      "tf_distil_bert_model/distilbert/transformer/layer_._5/ffn/lin1/kernel:0 (768, 3072)\n",
      "tf_distil_bert_model/distilbert/transformer/layer_._5/ffn/lin1/bias:0 (3072,)\n",
      "tf_distil_bert_model/distilbert/transformer/layer_._5/ffn/lin2/kernel:0 (3072, 768)\n",
      "tf_distil_bert_model/distilbert/transformer/layer_._5/ffn/lin2/bias:0 (768,)\n",
      "tf_distil_bert_model/distilbert/transformer/layer_._5/output_layer_norm/gamma:0 (768,)\n",
      "tf_distil_bert_model/distilbert/transformer/layer_._5/output_layer_norm/beta:0 (768,)\n",
      "dense/kernel:0 (768, 1)\n",
      "dense/bias:0 (1,)\n"
     ]
    }
   ],
   "source": [
    "# Checking wheather the weights have been loaded correctly\n",
    "for layer in loaded_model.layers:\n",
    "    for weight in layer.weights:\n",
    "        print(weight.name, weight.shape)"
   ]
  },
  {
   "cell_type": "code",
   "execution_count": 11,
   "metadata": {},
   "outputs": [
    {
     "name": "stdout",
     "output_type": "stream",
     "text": [
      "WARNING:tensorflow:From C:\\Users\\afise\\AppData\\Local\\Packages\\PythonSoftwareFoundation.Python.3.11_qbz5n2kfra8p0\\LocalCache\\local-packages\\Python311\\site-packages\\keras\\src\\optimizers\\__init__.py:309: The name tf.train.Optimizer is deprecated. Please use tf.compat.v1.train.Optimizer instead.\n",
      "\n"
     ]
    }
   ],
   "source": [
    "loaded_model.compile(optimizer='adam', loss='binary_crossentropy', metrics=['accuracy'])"
   ]
  },
  {
   "cell_type": "code",
   "execution_count": 34,
   "metadata": {},
   "outputs": [
    {
     "name": "stdout",
     "output_type": "stream",
     "text": [
      "5/5 [==============================] - 3s 621ms/step\n",
      "Predicted Labels for the YouTube comment dataset: [0 1 0 0 1 1 0 1 0 1 1 1 1 1 1 0 1 0 0 1 0 0 0 0 1 1 0 0 0 1 1 1 0 0 0 1 1\n",
      " 0 1 1 1 0 1 0 0 1 0 0 0 1 0 0 0 1 1 0 0 0 0 0 1 0 0 0 1 0 0 1 0 1 1 1 0 1\n",
      " 1 1 1 0 0 0 1 1 0 0 0 1 0 1 1 0 1 0 0 1 1 1 1 0 1 1 0 1 1 0 1 1 0 1 0 1 1\n",
      " 0 0 0 0 1 1 1 0 1 0 1 1 0 0 0 1 1 0 0 1 1 0 0 0 0 0 1 1 1 0 1 0 1 0 1 0 0\n",
      " 0]\n"
     ]
    }
   ],
   "source": [
    "# Making predictions on the YouTube dataset\n",
    "predictions_test = loaded_model.predict(test_dataset)\n",
    "\n",
    "# Getting the predicted values (1 if probability >= 0.5, else 0)\n",
    "predicted_labels = (predictions_test >= 0.5).astype(int)\n",
    "\n",
    "print(\"Predicted Labels for the YouTube comment dataset:\", predicted_labels.flatten())"
   ]
  },
  {
   "cell_type": "code",
   "execution_count": 35,
   "metadata": {},
   "outputs": [
    {
     "name": "stdout",
     "output_type": "stream",
     "text": [
      "5/5 - 3s - loss: 0.4484 - accuracy: 0.8792 - 3s/epoch - 636ms/step\n",
      "Test Loss: 0.4484, Test Accuracy: 0.8792\n"
     ]
    }
   ],
   "source": [
    "test_loss, test_accuracy = loaded_model.evaluate(test_dataset, verbose=2)\n",
    "print(f\"Test Loss: {test_loss:.4f}, Test Accuracy: {test_accuracy:.4f}\")"
   ]
  },
  {
   "cell_type": "code",
   "execution_count": 36,
   "metadata": {},
   "outputs": [
    {
     "name": "stdout",
     "output_type": "stream",
     "text": [
      "Label 0: 77 occurences\n",
      "Label 1: 72 occurences\n"
     ]
    }
   ],
   "source": [
    "predicted_labels_flat = tf.reshape(predicted_labels, [-1])\n",
    "\n",
    "y, idx, count = tf.unique_with_counts(predicted_labels_flat)\n",
    "\n",
    "# Printing label counts\n",
    "for label, count in zip(y.numpy(), count.numpy()):\n",
    "    print(f\"Label {label}: {count} occurences\")"
   ]
  },
  {
   "cell_type": "markdown",
   "metadata": {},
   "source": [
    "## Model Evaluation and Advanced Metrics Implementation\n",
    "\n",
    "In this section, we will enhance our understanding of the model's performance by implementing a range of additional evaluation metrics. While the accuracy metric provides a general sense of how often our model predicts correctly, it does not tell the whole story, especially in the context of binary classification tasks like sentiment analysis. To gain deeper insights, we will calculate and review the following metrics:\n",
    "\n",
    "- **Precision**: This metric will help us understand the proportion of positive identifications that were actually correct. It is particularly important in scenarios where the cost of false positives is high.\n",
    "\n",
    "- **Recall**: Also known as sensitivity, recall gives us the proportion of actual positives that were correctly identified. This metric is crucial when the cost of false negatives is significant.\n",
    "\n",
    "- **F1 Score**: As a harmonic mean of precision and recall, the F1 score provides a single metric that balances both false positives and false negatives, which is useful when we seek a balance between precision and recall.\n",
    "\n",
    "- **ROC-AUC Score**: The Receiver Operating Characteristic (ROC) curve and the Area Under the Curve (AUC) provide insights into the model's performance across various threshold settings. The ROC-AUC score is especially useful for evaluating the model's ability to distinguish between the classes.\n",
    "\n",
    "- **Confusion Matrix**: This matrix will allow us to visualize the model's predictions, offering a clear picture of the classification done by the model, including true positives, true negatives, false positives, and false negatives.\n",
    "\n",
    "By analyzing these metrics, we will be able to understand not just how often the model is correct on average (accuracy), but also how it behaves in terms of different types of errors (false positives and false negatives). This comprehensive analysis is crucial for determining the practical applicability of our sentiment analysis model and for planning subsequent steps to improve its performance."
   ]
  },
  {
   "cell_type": "code",
   "execution_count": 15,
   "metadata": {},
   "outputs": [
    {
     "name": "stdout",
     "output_type": "stream",
     "text": [
      "Precision: 0.8750\n",
      "Recall: 0.8750\n",
      "F1 Score: 0.8750\n",
      "ROC-AUC Score: 0.9511\n"
     ]
    }
   ],
   "source": [
    "from sklearn.metrics import precision_score, recall_score, f1_score, roc_auc_score, confusion_matrix\n",
    "\n",
    "true_labels = label_test\n",
    "predicted_labels = (predictions_test >= 0.5).astype(int)\n",
    "\n",
    "precision = precision_score(true_labels, predicted_labels)\n",
    "recall = recall_score(true_labels, predicted_labels)\n",
    "f1 = f1_score(true_labels, predicted_labels)\n",
    "roc_auc = roc_auc_score(true_labels, predictions_test)  # Use raw probabilities for ROC-AUC\n",
    "\n",
    "print(f\"Precision: {precision:.4f}\")\n",
    "print(f\"Recall: {recall:.4f}\")\n",
    "print(f\"F1 Score: {f1:.4f}\")\n",
    "print(f\"ROC-AUC Score: {roc_auc:.4f}\")"
   ]
  },
  {
   "cell_type": "code",
   "execution_count": 16,
   "metadata": {},
   "outputs": [
    {
     "data": {
      "image/png": "[encoded data removed]",
      "text/plain": [
       "<Figure size 800x600 with 1 Axes>"
      ]
     },
     "metadata": {},
     "output_type": "display_data"
    }
   ],
   "source": [
    "import matplotlib.pyplot as plt\n",
    "from sklearn.metrics import roc_curve, auc\n",
    "\n",
    "fpr, tpr, tresholds = roc_curve(label_test, predictions_test)\n",
    "\n",
    "roc_auc = auc(fpr, tpr)\n",
    "\n",
    "plt.figure(figsize=(8, 6))\n",
    "plt.plot(fpr, tpr, color='blue', lw=2, label='ROC curve (area = %0.2f)' % roc_auc)\n",
    "plt.plot([0, 1], [0, 1], color='gray', lw=2, linestyle='--')\n",
    "plt.xlim([0.0, 1.0])\n",
    "plt.ylim([0.0, 1.05])\n",
    "plt.xlabel('False Positive Rate')\n",
    "plt.ylabel('True Positive Rate')\n",
    "plt.title('Receiver Operating Characteristic')\n",
    "plt.legend(loc=\"lower right\")\n",
    "plt.show()"
   ]
  },
  {
   "cell_type": "markdown",
   "metadata": {},
   "source": [
    "## Analysis of Misclassified Samples\n",
    "\n",
    "Having evaluated our sentiment analysis model and identified areas of high accuracy, we will now delve deeper into instances where the model did not perform as expected. The aim is to scrutinize the misclassified samples to gain a better understanding of the model's limitations and the types of sentiment expressions it struggles to interpret correctly.\n",
    "\n",
    "This examination will involve a careful review of the text of misclassified comments, comparing the predicted sentiments against the true labels. By identifying patterns or commonalities among these inaccuracies, we can uncover valuable insights into:\n",
    "\n",
    "- The linguistic nuances and contextual subtleties that the model may be overlooking.\n",
    "- Specific instances of language use, such as sarcasm, idioms, or domain-specific jargon, that may be leading to incorrect classifications.\n",
    "- Potential preprocessing or feature engineering improvements that could enhance the model's ability to capture and classify sentiments more accurately.\n",
    "\n",
    "The ultimate goal of this analysis is to iteratively refine our model and preprocessing techniques to improve its performance on complex, real-world data and ensure that it generalizes well to the types of sentiment expressions it will encounter in practice."
   ]
  },
  {
   "cell_type": "code",
   "execution_count": 17,
   "metadata": {},
   "outputs": [
    {
     "data": {
      "text/html": [
       "<div>\n",
       "<style scoped>\n",
       "    .dataframe tbody tr th:only-of-type {\n",
       "        vertical-align: middle;\n",
       "    }\n",
       "\n",
       "    .dataframe tbody tr th {\n",
       "        vertical-align: top;\n",
       "    }\n",
       "\n",
       "    .dataframe thead th {\n",
       "        text-align: right;\n",
       "    }\n",
       "</style>\n",
       "<table border=\"1\" class=\"dataframe\">\n",
       "  <thead>\n",
       "    <tr style=\"text-align: right;\">\n",
       "      <th></th>\n",
       "      <th>Comment</th>\n",
       "      <th>Label</th>\n",
       "      <th>input_ids</th>\n",
       "      <th>attention_mask</th>\n",
       "      <th>predicted_probability</th>\n",
       "      <th>predicted_label</th>\n",
       "    </tr>\n",
       "  </thead>\n",
       "  <tbody>\n",
       "    <tr>\n",
       "      <th>7</th>\n",
       "      <td>this guy sounds like chatgpt wrote him</td>\n",
       "      <td>0</td>\n",
       "      <td>[101, 2023, 3124, 4165, 2066, 11834, 21600, 2102, 2626, 2032, 102, 0, 0, 0, 0, 0, 0, 0, 0, 0, 0, 0, 0, 0, 0, 0, 0, 0, 0, 0, 0, 0, 0, 0, 0, 0, 0, 0, 0, 0, 0, 0, 0, 0, 0, 0, 0, 0, 0, 0, 0, 0, 0, 0, 0, 0, 0, 0, 0, 0, 0, 0, 0, 0, 0, 0, 0, 0, 0, 0, 0, 0, 0, 0, 0, 0, 0, 0, 0, 0, 0, 0, 0, 0, 0, 0, 0, 0, 0, 0, 0, 0, 0, 0, 0, 0, 0, 0, 0, 0, ...]</td>\n",
       "      <td>[1, 1, 1, 1, 1, 1, 1, 1, 1, 1, 1, 0, 0, 0, 0, 0, 0, 0, 0, 0, 0, 0, 0, 0, 0, 0, 0, 0, 0, 0, 0, 0, 0, 0, 0, 0, 0, 0, 0, 0, 0, 0, 0, 0, 0, 0, 0, 0, 0, 0, 0, 0, 0, 0, 0, 0, 0, 0, 0, 0, 0, 0, 0, 0, 0, 0, 0, 0, 0, 0, 0, 0, 0, 0, 0, 0, 0, 0, 0, 0, 0, 0, 0, 0, 0, 0, 0, 0, 0, 0, 0, 0, 0, 0, 0, 0, 0, 0, 0, 0, ...]</td>\n",
       "      <td>0.716375</td>\n",
       "      <td>1</td>\n",
       "    </tr>\n",
       "    <tr>\n",
       "      <th>12</th>\n",
       "      <td>jcal is killing it lately lol</td>\n",
       "      <td>1</td>\n",
       "      <td>[101, 29175, 2389, 2003, 4288, 2009, 9906, 8840, 2140, 102, 0, 0, 0, 0, 0, 0, 0, 0, 0, 0, 0, 0, 0, 0, 0, 0, 0, 0, 0, 0, 0, 0, 0, 0, 0, 0, 0, 0, 0, 0, 0, 0, 0, 0, 0, 0, 0, 0, 0, 0, 0, 0, 0, 0, 0, 0, 0, 0, 0, 0, 0, 0, 0, 0, 0, 0, 0, 0, 0, 0, 0, 0, 0, 0, 0, 0, 0, 0, 0, 0, 0, 0, 0, 0, 0, 0, 0, 0, 0, 0, 0, 0, 0, 0, 0, 0, 0, 0, 0, 0, ...]</td>\n",
       "      <td>[1, 1, 1, 1, 1, 1, 1, 1, 1, 1, 0, 0, 0, 0, 0, 0, 0, 0, 0, 0, 0, 0, 0, 0, 0, 0, 0, 0, 0, 0, 0, 0, 0, 0, 0, 0, 0, 0, 0, 0, 0, 0, 0, 0, 0, 0, 0, 0, 0, 0, 0, 0, 0, 0, 0, 0, 0, 0, 0, 0, 0, 0, 0, 0, 0, 0, 0, 0, 0, 0, 0, 0, 0, 0, 0, 0, 0, 0, 0, 0, 0, 0, 0, 0, 0, 0, 0, 0, 0, 0, 0, 0, 0, 0, 0, 0, 0, 0, 0, 0, ...]</td>\n",
       "      <td>0.107166</td>\n",
       "      <td>0</td>\n",
       "    </tr>\n",
       "    <tr>\n",
       "      <th>23</th>\n",
       "      <td>as elon tells the advert bribers to go f themselves tucker drops his line of advertisement for perrier how can anyone miss this one</td>\n",
       "      <td>1</td>\n",
       "      <td>[101, 2004, 3449, 2239, 4136, 1996, 4748, 16874, 26470, 2869, 2000, 2175, 1042, 3209, 9802, 9010, 2010, 2240, 1997, 15147, 2005, 2566, 16252, 2129, 2064, 3087, 3335, 2023, 2028, 102, 0, 0, 0, 0, 0, 0, 0, 0, 0, 0, 0, 0, 0, 0, 0, 0, 0, 0, 0, 0, 0, 0, 0, 0, 0, 0, 0, 0, 0, 0, 0, 0, 0, 0, 0, 0, 0, 0, 0, 0, 0, 0, 0, 0, 0, 0, 0, 0, 0, 0, 0, 0, 0, 0, 0, 0, 0, 0, 0, 0, 0, 0, 0, 0, 0, 0, 0, 0, 0, 0, ...]</td>\n",
       "      <td>[1, 1, 1, 1, 1, 1, 1, 1, 1, 1, 1, 1, 1, 1, 1, 1, 1, 1, 1, 1, 1, 1, 1, 1, 1, 1, 1, 1, 1, 1, 0, 0, 0, 0, 0, 0, 0, 0, 0, 0, 0, 0, 0, 0, 0, 0, 0, 0, 0, 0, 0, 0, 0, 0, 0, 0, 0, 0, 0, 0, 0, 0, 0, 0, 0, 0, 0, 0, 0, 0, 0, 0, 0, 0, 0, 0, 0, 0, 0, 0, 0, 0, 0, 0, 0, 0, 0, 0, 0, 0, 0, 0, 0, 0, 0, 0, 0, 0, 0, 0, ...]</td>\n",
       "      <td>0.004524</td>\n",
       "      <td>0</td>\n",
       "    </tr>\n",
       "    <tr>\n",
       "      <th>35</th>\n",
       "      <td>what about a show where you analyse your own carbon footprints</td>\n",
       "      <td>0</td>\n",
       "      <td>[101, 2054, 2055, 1037, 2265, 2073, 2017, 20302, 23274, 2115, 2219, 6351, 24629, 102, 0, 0, 0, 0, 0, 0, 0, 0, 0, 0, 0, 0, 0, 0, 0, 0, 0, 0, 0, 0, 0, 0, 0, 0, 0, 0, 0, 0, 0, 0, 0, 0, 0, 0, 0, 0, 0, 0, 0, 0, 0, 0, 0, 0, 0, 0, 0, 0, 0, 0, 0, 0, 0, 0, 0, 0, 0, 0, 0, 0, 0, 0, 0, 0, 0, 0, 0, 0, 0, 0, 0, 0, 0, 0, 0, 0, 0, 0, 0, 0, 0, 0, 0, 0, 0, 0, ...]</td>\n",
       "      <td>[1, 1, 1, 1, 1, 1, 1, 1, 1, 1, 1, 1, 1, 1, 0, 0, 0, 0, 0, 0, 0, 0, 0, 0, 0, 0, 0, 0, 0, 0, 0, 0, 0, 0, 0, 0, 0, 0, 0, 0, 0, 0, 0, 0, 0, 0, 0, 0, 0, 0, 0, 0, 0, 0, 0, 0, 0, 0, 0, 0, 0, 0, 0, 0, 0, 0, 0, 0, 0, 0, 0, 0, 0, 0, 0, 0, 0, 0, 0, 0, 0, 0, 0, 0, 0, 0, 0, 0, 0, 0, 0, 0, 0, 0, 0, 0, 0, 0, 0, 0, ...]</td>\n",
       "      <td>0.869806</td>\n",
       "      <td>1</td>\n",
       "    </tr>\n",
       "    <tr>\n",
       "      <th>60</th>\n",
       "      <td>great interview with tuckerwhat the failure of openai board tells us is that ai will get out of hand checks and balances will fail</td>\n",
       "      <td>1</td>\n",
       "      <td>[101, 2307, 4357, 2007, 9802, 2860, 12707, 1996, 4945, 1997, 2330, 4886, 2604, 4136, 2149, 2003, 2008, 9932, 2097, 2131, 2041, 1997, 2192, 14148, 1998, 5703, 2015, 2097, 8246, 102, 0, 0, 0, 0, 0, 0, 0, 0, 0, 0, 0, 0, 0, 0, 0, 0, 0, 0, 0, 0, 0, 0, 0, 0, 0, 0, 0, 0, 0, 0, 0, 0, 0, 0, 0, 0, 0, 0, 0, 0, 0, 0, 0, 0, 0, 0, 0, 0, 0, 0, 0, 0, 0, 0, 0, 0, 0, 0, 0, 0, 0, 0, 0, 0, 0, 0, 0, 0, 0, 0, ...]</td>\n",
       "      <td>[1, 1, 1, 1, 1, 1, 1, 1, 1, 1, 1, 1, 1, 1, 1, 1, 1, 1, 1, 1, 1, 1, 1, 1, 1, 1, 1, 1, 1, 1, 0, 0, 0, 0, 0, 0, 0, 0, 0, 0, 0, 0, 0, 0, 0, 0, 0, 0, 0, 0, 0, 0, 0, 0, 0, 0, 0, 0, 0, 0, 0, 0, 0, 0, 0, 0, 0, 0, 0, 0, 0, 0, 0, 0, 0, 0, 0, 0, 0, 0, 0, 0, 0, 0, 0, 0, 0, 0, 0, 0, 0, 0, 0, 0, 0, 0, 0, 0, 0, 0, ...]</td>\n",
       "      <td>0.002868</td>\n",
       "      <td>0</td>\n",
       "    </tr>\n",
       "    <tr>\n",
       "      <th>69</th>\n",
       "      <td>so if we are laughing at ideas let me throw that one in the hat and we can have a puke inducing laugh attack</td>\n",
       "      <td>0</td>\n",
       "      <td>[101, 2061, 2065, 2057, 2024, 5870, 2012, 4784, 2292, 2033, 5466, 2008, 2028, 1999, 1996, 6045, 1998, 2057, 2064, 2031, 1037, 16405, 3489, 29290, 4756, 2886, 102, 0, 0, 0, 0, 0, 0, 0, 0, 0, 0, 0, 0, 0, 0, 0, 0, 0, 0, 0, 0, 0, 0, 0, 0, 0, 0, 0, 0, 0, 0, 0, 0, 0, 0, 0, 0, 0, 0, 0, 0, 0, 0, 0, 0, 0, 0, 0, 0, 0, 0, 0, 0, 0, 0, 0, 0, 0, 0, 0, 0, 0, 0, 0, 0, 0, 0, 0, 0, 0, 0, 0, 0, 0, ...]</td>\n",
       "      <td>[1, 1, 1, 1, 1, 1, 1, 1, 1, 1, 1, 1, 1, 1, 1, 1, 1, 1, 1, 1, 1, 1, 1, 1, 1, 1, 1, 0, 0, 0, 0, 0, 0, 0, 0, 0, 0, 0, 0, 0, 0, 0, 0, 0, 0, 0, 0, 0, 0, 0, 0, 0, 0, 0, 0, 0, 0, 0, 0, 0, 0, 0, 0, 0, 0, 0, 0, 0, 0, 0, 0, 0, 0, 0, 0, 0, 0, 0, 0, 0, 0, 0, 0, 0, 0, 0, 0, 0, 0, 0, 0, 0, 0, 0, 0, 0, 0, 0, 0, 0, ...]</td>\n",
       "      <td>0.690708</td>\n",
       "      <td>1</td>\n",
       "    </tr>\n",
       "    <tr>\n",
       "      <th>125</th>\n",
       "      <td>again i would have been open to hearing a more honest podcast with tucker but this just made me feel like you gave him a puff piece</td>\n",
       "      <td>0</td>\n",
       "      <td>[101, 2153, 1045, 2052, 2031, 2042, 2330, 2000, 4994, 1037, 2062, 7481, 16110, 2007, 9802, 2021, 2023, 2074, 2081, 2033, 2514, 2066, 2017, 2435, 2032, 1037, 23893, 3538, 102, 0, 0, 0, 0, 0, 0, 0, 0, 0, 0, 0, 0, 0, 0, 0, 0, 0, 0, 0, 0, 0, 0, 0, 0, 0, 0, 0, 0, 0, 0, 0, 0, 0, 0, 0, 0, 0, 0, 0, 0, 0, 0, 0, 0, 0, 0, 0, 0, 0, 0, 0, 0, 0, 0, 0, 0, 0, 0, 0, 0, 0, 0, 0, 0, 0, 0, 0, 0, 0, 0, 0, ...]</td>\n",
       "      <td>[1, 1, 1, 1, 1, 1, 1, 1, 1, 1, 1, 1, 1, 1, 1, 1, 1, 1, 1, 1, 1, 1, 1, 1, 1, 1, 1, 1, 1, 0, 0, 0, 0, 0, 0, 0, 0, 0, 0, 0, 0, 0, 0, 0, 0, 0, 0, 0, 0, 0, 0, 0, 0, 0, 0, 0, 0, 0, 0, 0, 0, 0, 0, 0, 0, 0, 0, 0, 0, 0, 0, 0, 0, 0, 0, 0, 0, 0, 0, 0, 0, 0, 0, 0, 0, 0, 0, 0, 0, 0, 0, 0, 0, 0, 0, 0, 0, 0, 0, 0, ...]</td>\n",
       "      <td>0.991983</td>\n",
       "      <td>1</td>\n",
       "    </tr>\n",
       "    <tr>\n",
       "      <th>165</th>\n",
       "      <td>subsidies are going to unions that fund biden simple 55 min</td>\n",
       "      <td>0</td>\n",
       "      <td>[101, 21762, 2024, 2183, 2000, 9209, 2008, 4636, 7226, 2368, 3722, 4583, 8117, 102, 0, 0, 0, 0, 0, 0, 0, 0, 0, 0, 0, 0, 0, 0, 0, 0, 0, 0, 0, 0, 0, 0, 0, 0, 0, 0, 0, 0, 0, 0, 0, 0, 0, 0, 0, 0, 0, 0, 0, 0, 0, 0, 0, 0, 0, 0, 0, 0, 0, 0, 0, 0, 0, 0, 0, 0, 0, 0, 0, 0, 0, 0, 0, 0, 0, 0, 0, 0, 0, 0, 0, 0, 0, 0, 0, 0, 0, 0, 0, 0, 0, 0, 0, 0, 0, 0, ...]</td>\n",
       "      <td>[1, 1, 1, 1, 1, 1, 1, 1, 1, 1, 1, 1, 1, 1, 0, 0, 0, 0, 0, 0, 0, 0, 0, 0, 0, 0, 0, 0, 0, 0, 0, 0, 0, 0, 0, 0, 0, 0, 0, 0, 0, 0, 0, 0, 0, 0, 0, 0, 0, 0, 0, 0, 0, 0, 0, 0, 0, 0, 0, 0, 0, 0, 0, 0, 0, 0, 0, 0, 0, 0, 0, 0, 0, 0, 0, 0, 0, 0, 0, 0, 0, 0, 0, 0, 0, 0, 0, 0, 0, 0, 0, 0, 0, 0, 0, 0, 0, 0, 0, 0, ...]</td>\n",
       "      <td>0.922473</td>\n",
       "      <td>1</td>\n",
       "    </tr>\n",
       "    <tr>\n",
       "      <th>175</th>\n",
       "      <td>more beeps than morse code last time</td>\n",
       "      <td>0</td>\n",
       "      <td>[101, 2062, 10506, 4523, 2084, 17107, 3642, 2197, 2051, 102, 0, 0, 0, 0, 0, 0, 0, 0, 0, 0, 0, 0, 0, 0, 0, 0, 0, 0, 0, 0, 0, 0, 0, 0, 0, 0, 0, 0, 0, 0, 0, 0, 0, 0, 0, 0, 0, 0, 0, 0, 0, 0, 0, 0, 0, 0, 0, 0, 0, 0, 0, 0, 0, 0, 0, 0, 0, 0, 0, 0, 0, 0, 0, 0, 0, 0, 0, 0, 0, 0, 0, 0, 0, 0, 0, 0, 0, 0, 0, 0, 0, 0, 0, 0, 0, 0, 0, 0, 0, 0, ...]</td>\n",
       "      <td>[1, 1, 1, 1, 1, 1, 1, 1, 1, 1, 0, 0, 0, 0, 0, 0, 0, 0, 0, 0, 0, 0, 0, 0, 0, 0, 0, 0, 0, 0, 0, 0, 0, 0, 0, 0, 0, 0, 0, 0, 0, 0, 0, 0, 0, 0, 0, 0, 0, 0, 0, 0, 0, 0, 0, 0, 0, 0, 0, 0, 0, 0, 0, 0, 0, 0, 0, 0, 0, 0, 0, 0, 0, 0, 0, 0, 0, 0, 0, 0, 0, 0, 0, 0, 0, 0, 0, 0, 0, 0, 0, 0, 0, 0, 0, 0, 0, 0, 0, 0, ...]</td>\n",
       "      <td>0.918181</td>\n",
       "      <td>1</td>\n",
       "    </tr>\n",
       "    <tr>\n",
       "      <th>176</th>\n",
       "      <td>tucker is the man</td>\n",
       "      <td>1</td>\n",
       "      <td>[101, 9802, 2003, 1996, 2158, 102, 0, 0, 0, 0, 0, 0, 0, 0, 0, 0, 0, 0, 0, 0, 0, 0, 0, 0, 0, 0, 0, 0, 0, 0, 0, 0, 0, 0, 0, 0, 0, 0, 0, 0, 0, 0, 0, 0, 0, 0, 0, 0, 0, 0, 0, 0, 0, 0, 0, 0, 0, 0, 0, 0, 0, 0, 0, 0, 0, 0, 0, 0, 0, 0, 0, 0, 0, 0, 0, 0, 0, 0, 0, 0, 0, 0, 0, 0, 0, 0, 0, 0, 0, 0, 0, 0, 0, 0, 0, 0, 0, 0, 0, 0, ...]</td>\n",
       "      <td>[1, 1, 1, 1, 1, 1, 0, 0, 0, 0, 0, 0, 0, 0, 0, 0, 0, 0, 0, 0, 0, 0, 0, 0, 0, 0, 0, 0, 0, 0, 0, 0, 0, 0, 0, 0, 0, 0, 0, 0, 0, 0, 0, 0, 0, 0, 0, 0, 0, 0, 0, 0, 0, 0, 0, 0, 0, 0, 0, 0, 0, 0, 0, 0, 0, 0, 0, 0, 0, 0, 0, 0, 0, 0, 0, 0, 0, 0, 0, 0, 0, 0, 0, 0, 0, 0, 0, 0, 0, 0, 0, 0, 0, 0, 0, 0, 0, 0, 0, 0, ...]</td>\n",
       "      <td>0.260404</td>\n",
       "      <td>0</td>\n",
       "    </tr>\n",
       "    <tr>\n",
       "      <th>182</th>\n",
       "      <td>tucker carlson cant believe you guys got him in the pod</td>\n",
       "      <td>1</td>\n",
       "      <td>[101, 9802, 22226, 2064, 2102, 2903, 2017, 4364, 2288, 2032, 1999, 1996, 17491, 102, 0, 0, 0, 0, 0, 0, 0, 0, 0, 0, 0, 0, 0, 0, 0, 0, 0, 0, 0, 0, 0, 0, 0, 0, 0, 0, 0, 0, 0, 0, 0, 0, 0, 0, 0, 0, 0, 0, 0, 0, 0, 0, 0, 0, 0, 0, 0, 0, 0, 0, 0, 0, 0, 0, 0, 0, 0, 0, 0, 0, 0, 0, 0, 0, 0, 0, 0, 0, 0, 0, 0, 0, 0, 0, 0, 0, 0, 0, 0, 0, 0, 0, 0, 0, 0, 0, ...]</td>\n",
       "      <td>[1, 1, 1, 1, 1, 1, 1, 1, 1, 1, 1, 1, 1, 1, 0, 0, 0, 0, 0, 0, 0, 0, 0, 0, 0, 0, 0, 0, 0, 0, 0, 0, 0, 0, 0, 0, 0, 0, 0, 0, 0, 0, 0, 0, 0, 0, 0, 0, 0, 0, 0, 0, 0, 0, 0, 0, 0, 0, 0, 0, 0, 0, 0, 0, 0, 0, 0, 0, 0, 0, 0, 0, 0, 0, 0, 0, 0, 0, 0, 0, 0, 0, 0, 0, 0, 0, 0, 0, 0, 0, 0, 0, 0, 0, 0, 0, 0, 0, 0, 0, ...]</td>\n",
       "      <td>0.016851</td>\n",
       "      <td>0</td>\n",
       "    </tr>\n",
       "    <tr>\n",
       "      <th>192</th>\n",
       "      <td>alex jones is in the arena trying stuff some will work some wont but hes always learning he got the sandy hook conspiracy wrong but at least hes in the arena calling out conspiracies</td>\n",
       "      <td>1</td>\n",
       "      <td>[101, 4074, 3557, 2003, 1999, 1996, 5196, 2667, 4933, 2070, 2097, 2147, 2070, 2180, 2102, 2021, 2002, 2015, 2467, 4083, 2002, 2288, 1996, 7525, 8103, 9714, 3308, 2021, 2012, 2560, 2002, 2015, 1999, 1996, 5196, 4214, 2041, 9530, 13102, 7895, 9243, 102, 0, 0, 0, 0, 0, 0, 0, 0, 0, 0, 0, 0, 0, 0, 0, 0, 0, 0, 0, 0, 0, 0, 0, 0, 0, 0, 0, 0, 0, 0, 0, 0, 0, 0, 0, 0, 0, 0, 0, 0, 0, 0, 0, 0, 0, 0, 0, 0, 0, 0, 0, 0, 0, 0, 0, 0, 0, 0, ...]</td>\n",
       "      <td>[1, 1, 1, 1, 1, 1, 1, 1, 1, 1, 1, 1, 1, 1, 1, 1, 1, 1, 1, 1, 1, 1, 1, 1, 1, 1, 1, 1, 1, 1, 1, 1, 1, 1, 1, 1, 1, 1, 1, 1, 1, 1, 0, 0, 0, 0, 0, 0, 0, 0, 0, 0, 0, 0, 0, 0, 0, 0, 0, 0, 0, 0, 0, 0, 0, 0, 0, 0, 0, 0, 0, 0, 0, 0, 0, 0, 0, 0, 0, 0, 0, 0, 0, 0, 0, 0, 0, 0, 0, 0, 0, 0, 0, 0, 0, 0, 0, 0, 0, 0, ...]</td>\n",
       "      <td>0.004378</td>\n",
       "      <td>0</td>\n",
       "    </tr>\n",
       "    <tr>\n",
       "      <th>194</th>\n",
       "      <td>nice chamath the billionaire pumper has become chairman of the obvious</td>\n",
       "      <td>0</td>\n",
       "      <td>[101, 3835, 15775, 18900, 2232, 1996, 22301, 10216, 2121, 2038, 2468, 3472, 1997, 1996, 5793, 102, 0, 0, 0, 0, 0, 0, 0, 0, 0, 0, 0, 0, 0, 0, 0, 0, 0, 0, 0, 0, 0, 0, 0, 0, 0, 0, 0, 0, 0, 0, 0, 0, 0, 0, 0, 0, 0, 0, 0, 0, 0, 0, 0, 0, 0, 0, 0, 0, 0, 0, 0, 0, 0, 0, 0, 0, 0, 0, 0, 0, 0, 0, 0, 0, 0, 0, 0, 0, 0, 0, 0, 0, 0, 0, 0, 0, 0, 0, 0, 0, 0, 0, 0, 0, ...]</td>\n",
       "      <td>[1, 1, 1, 1, 1, 1, 1, 1, 1, 1, 1, 1, 1, 1, 1, 1, 0, 0, 0, 0, 0, 0, 0, 0, 0, 0, 0, 0, 0, 0, 0, 0, 0, 0, 0, 0, 0, 0, 0, 0, 0, 0, 0, 0, 0, 0, 0, 0, 0, 0, 0, 0, 0, 0, 0, 0, 0, 0, 0, 0, 0, 0, 0, 0, 0, 0, 0, 0, 0, 0, 0, 0, 0, 0, 0, 0, 0, 0, 0, 0, 0, 0, 0, 0, 0, 0, 0, 0, 0, 0, 0, 0, 0, 0, 0, 0, 0, 0, 0, 0, ...]</td>\n",
       "      <td>0.995641</td>\n",
       "      <td>1</td>\n",
       "    </tr>\n",
       "    <tr>\n",
       "      <th>210</th>\n",
       "      <td>ew</td>\n",
       "      <td>0</td>\n",
       "      <td>[101, 1041, 2860, 102, 0, 0, 0, 0, 0, 0, 0, 0, 0, 0, 0, 0, 0, 0, 0, 0, 0, 0, 0, 0, 0, 0, 0, 0, 0, 0, 0, 0, 0, 0, 0, 0, 0, 0, 0, 0, 0, 0, 0, 0, 0, 0, 0, 0, 0, 0, 0, 0, 0, 0, 0, 0, 0, 0, 0, 0, 0, 0, 0, 0, 0, 0, 0, 0, 0, 0, 0, 0, 0, 0, 0, 0, 0, 0, 0, 0, 0, 0, 0, 0, 0, 0, 0, 0, 0, 0, 0, 0, 0, 0, 0, 0, 0, 0, 0, 0, ...]</td>\n",
       "      <td>[1, 1, 1, 1, 0, 0, 0, 0, 0, 0, 0, 0, 0, 0, 0, 0, 0, 0, 0, 0, 0, 0, 0, 0, 0, 0, 0, 0, 0, 0, 0, 0, 0, 0, 0, 0, 0, 0, 0, 0, 0, 0, 0, 0, 0, 0, 0, 0, 0, 0, 0, 0, 0, 0, 0, 0, 0, 0, 0, 0, 0, 0, 0, 0, 0, 0, 0, 0, 0, 0, 0, 0, 0, 0, 0, 0, 0, 0, 0, 0, 0, 0, 0, 0, 0, 0, 0, 0, 0, 0, 0, 0, 0, 0, 0, 0, 0, 0, 0, 0, ...]</td>\n",
       "      <td>0.953038</td>\n",
       "      <td>1</td>\n",
       "    </tr>\n",
       "    <tr>\n",
       "      <th>245</th>\n",
       "      <td>all lives matter</td>\n",
       "      <td>1</td>\n",
       "      <td>[101, 2035, 3268, 3043, 102, 0, 0, 0, 0, 0, 0, 0, 0, 0, 0, 0, 0, 0, 0, 0, 0, 0, 0, 0, 0, 0, 0, 0, 0, 0, 0, 0, 0, 0, 0, 0, 0, 0, 0, 0, 0, 0, 0, 0, 0, 0, 0, 0, 0, 0, 0, 0, 0, 0, 0, 0, 0, 0, 0, 0, 0, 0, 0, 0, 0, 0, 0, 0, 0, 0, 0, 0, 0, 0, 0, 0, 0, 0, 0, 0, 0, 0, 0, 0, 0, 0, 0, 0, 0, 0, 0, 0, 0, 0, 0, 0, 0, 0, 0, 0, ...]</td>\n",
       "      <td>[1, 1, 1, 1, 1, 0, 0, 0, 0, 0, 0, 0, 0, 0, 0, 0, 0, 0, 0, 0, 0, 0, 0, 0, 0, 0, 0, 0, 0, 0, 0, 0, 0, 0, 0, 0, 0, 0, 0, 0, 0, 0, 0, 0, 0, 0, 0, 0, 0, 0, 0, 0, 0, 0, 0, 0, 0, 0, 0, 0, 0, 0, 0, 0, 0, 0, 0, 0, 0, 0, 0, 0, 0, 0, 0, 0, 0, 0, 0, 0, 0, 0, 0, 0, 0, 0, 0, 0, 0, 0, 0, 0, 0, 0, 0, 0, 0, 0, 0, 0, ...]</td>\n",
       "      <td>0.004128</td>\n",
       "      <td>0</td>\n",
       "    </tr>\n",
       "    <tr>\n",
       "      <th>254</th>\n",
       "      <td>sacks is the reason i keep coming back to listen to a bunch of filthy rich guys</td>\n",
       "      <td>1</td>\n",
       "      <td>[101, 14918, 2003, 1996, 3114, 1045, 2562, 2746, 2067, 2000, 4952, 2000, 1037, 9129, 1997, 18294, 4138, 4364, 102, 0, 0, 0, 0, 0, 0, 0, 0, 0, 0, 0, 0, 0, 0, 0, 0, 0, 0, 0, 0, 0, 0, 0, 0, 0, 0, 0, 0, 0, 0, 0, 0, 0, 0, 0, 0, 0, 0, 0, 0, 0, 0, 0, 0, 0, 0, 0, 0, 0, 0, 0, 0, 0, 0, 0, 0, 0, 0, 0, 0, 0, 0, 0, 0, 0, 0, 0, 0, 0, 0, 0, 0, 0, 0, 0, 0, 0, 0, 0, 0, 0, ...]</td>\n",
       "      <td>[1, 1, 1, 1, 1, 1, 1, 1, 1, 1, 1, 1, 1, 1, 1, 1, 1, 1, 1, 0, 0, 0, 0, 0, 0, 0, 0, 0, 0, 0, 0, 0, 0, 0, 0, 0, 0, 0, 0, 0, 0, 0, 0, 0, 0, 0, 0, 0, 0, 0, 0, 0, 0, 0, 0, 0, 0, 0, 0, 0, 0, 0, 0, 0, 0, 0, 0, 0, 0, 0, 0, 0, 0, 0, 0, 0, 0, 0, 0, 0, 0, 0, 0, 0, 0, 0, 0, 0, 0, 0, 0, 0, 0, 0, 0, 0, 0, 0, 0, 0, ...]</td>\n",
       "      <td>0.004036</td>\n",
       "      <td>0</td>\n",
       "    </tr>\n",
       "    <tr>\n",
       "      <th>256</th>\n",
       "      <td>tucker stresses me out i cant explain why i generally agree with him</td>\n",
       "      <td>0</td>\n",
       "      <td>[101, 9802, 23253, 2033, 2041, 1045, 2064, 2102, 4863, 2339, 1045, 3227, 5993, 2007, 2032, 102, 0, 0, 0, 0, 0, 0, 0, 0, 0, 0, 0, 0, 0, 0, 0, 0, 0, 0, 0, 0, 0, 0, 0, 0, 0, 0, 0, 0, 0, 0, 0, 0, 0, 0, 0, 0, 0, 0, 0, 0, 0, 0, 0, 0, 0, 0, 0, 0, 0, 0, 0, 0, 0, 0, 0, 0, 0, 0, 0, 0, 0, 0, 0, 0, 0, 0, 0, 0, 0, 0, 0, 0, 0, 0, 0, 0, 0, 0, 0, 0, 0, 0, 0, 0, ...]</td>\n",
       "      <td>[1, 1, 1, 1, 1, 1, 1, 1, 1, 1, 1, 1, 1, 1, 1, 1, 0, 0, 0, 0, 0, 0, 0, 0, 0, 0, 0, 0, 0, 0, 0, 0, 0, 0, 0, 0, 0, 0, 0, 0, 0, 0, 0, 0, 0, 0, 0, 0, 0, 0, 0, 0, 0, 0, 0, 0, 0, 0, 0, 0, 0, 0, 0, 0, 0, 0, 0, 0, 0, 0, 0, 0, 0, 0, 0, 0, 0, 0, 0, 0, 0, 0, 0, 0, 0, 0, 0, 0, 0, 0, 0, 0, 0, 0, 0, 0, 0, 0, 0, 0, ...]</td>\n",
       "      <td>0.638078</td>\n",
       "      <td>1</td>\n",
       "    </tr>\n",
       "    <tr>\n",
       "      <th>277</th>\n",
       "      <td>friedbergs religion analogy as a 16y old talking out of his ass about any subject he has no clue about well done friedberg</td>\n",
       "      <td>1</td>\n",
       "      <td>[101, 13017, 4059, 2015, 4676, 23323, 2004, 1037, 2385, 2100, 2214, 3331, 2041, 1997, 2010, 4632, 2055, 2151, 3395, 2002, 2038, 2053, 9789, 2055, 2092, 2589, 13017, 4059, 102, 0, 0, 0, 0, 0, 0, 0, 0, 0, 0, 0, 0, 0, 0, 0, 0, 0, 0, 0, 0, 0, 0, 0, 0, 0, 0, 0, 0, 0, 0, 0, 0, 0, 0, 0, 0, 0, 0, 0, 0, 0, 0, 0, 0, 0, 0, 0, 0, 0, 0, 0, 0, 0, 0, 0, 0, 0, 0, 0, 0, 0, 0, 0, 0, 0, 0, 0, 0, 0, 0, 0, ...]</td>\n",
       "      <td>[1, 1, 1, 1, 1, 1, 1, 1, 1, 1, 1, 1, 1, 1, 1, 1, 1, 1, 1, 1, 1, 1, 1, 1, 1, 1, 1, 1, 1, 0, 0, 0, 0, 0, 0, 0, 0, 0, 0, 0, 0, 0, 0, 0, 0, 0, 0, 0, 0, 0, 0, 0, 0, 0, 0, 0, 0, 0, 0, 0, 0, 0, 0, 0, 0, 0, 0, 0, 0, 0, 0, 0, 0, 0, 0, 0, 0, 0, 0, 0, 0, 0, 0, 0, 0, 0, 0, 0, 0, 0, 0, 0, 0, 0, 0, 0, 0, 0, 0, 0, ...]</td>\n",
       "      <td>0.014590</td>\n",
       "      <td>0</td>\n",
       "    </tr>\n",
       "  </tbody>\n",
       "</table>\n",
       "</div>"
      ],
      "text/plain": [
       "                                                                                                                                                                                    Comment  \\\n",
       "7                                                                                                                                                    this guy sounds like chatgpt wrote him   \n",
       "12                                                                                                                                                            jcal is killing it lately lol   \n",
       "23                                                      as elon tells the advert bribers to go f themselves tucker drops his line of advertisement for perrier how can anyone miss this one   \n",
       "35                                                                                                                           what about a show where you analyse your own carbon footprints   \n",
       "60                                                       great interview with tuckerwhat the failure of openai board tells us is that ai will get out of hand checks and balances will fail   \n",
       "69                                                                             so if we are laughing at ideas let me throw that one in the hat and we can have a puke inducing laugh attack   \n",
       "125                                                     again i would have been open to hearing a more honest podcast with tucker but this just made me feel like you gave him a puff piece   \n",
       "165                                                                                                                             subsidies are going to unions that fund biden simple 55 min   \n",
       "175                                                                                                                                                    more beeps than morse code last time   \n",
       "176                                                                                                                                                                       tucker is the man   \n",
       "182                                                                                                                                 tucker carlson cant believe you guys got him in the pod   \n",
       "192  alex jones is in the arena trying stuff some will work some wont but hes always learning he got the sandy hook conspiracy wrong but at least hes in the arena calling out conspiracies   \n",
       "194                                                                                                                  nice chamath the billionaire pumper has become chairman of the obvious   \n",
       "210                                                                                                                                                                                      ew   \n",
       "245                                                                                                                                                                        all lives matter   \n",
       "254                                                                                                         sacks is the reason i keep coming back to listen to a bunch of filthy rich guys   \n",
       "256                                                                                                                    tucker stresses me out i cant explain why i generally agree with him   \n",
       "277                                                              friedbergs religion analogy as a 16y old talking out of his ass about any subject he has no clue about well done friedberg   \n",
       "\n",
       "     Label  \\\n",
       "7        0   \n",
       "12       1   \n",
       "23       1   \n",
       "35       0   \n",
       "60       1   \n",
       "69       0   \n",
       "125      0   \n",
       "165      0   \n",
       "175      0   \n",
       "176      1   \n",
       "182      1   \n",
       "192      1   \n",
       "194      0   \n",
       "210      0   \n",
       "245      1   \n",
       "254      1   \n",
       "256      0   \n",
       "277      1   \n",
       "\n",
       "                                                                                                                                                                                                                                                                                                                                                                                                                                          input_ids  \\\n",
       "7                                                                                                [101, 2023, 3124, 4165, 2066, 11834, 21600, 2102, 2626, 2032, 102, 0, 0, 0, 0, 0, 0, 0, 0, 0, 0, 0, 0, 0, 0, 0, 0, 0, 0, 0, 0, 0, 0, 0, 0, 0, 0, 0, 0, 0, 0, 0, 0, 0, 0, 0, 0, 0, 0, 0, 0, 0, 0, 0, 0, 0, 0, 0, 0, 0, 0, 0, 0, 0, 0, 0, 0, 0, 0, 0, 0, 0, 0, 0, 0, 0, 0, 0, 0, 0, 0, 0, 0, 0, 0, 0, 0, 0, 0, 0, 0, 0, 0, 0, 0, 0, 0, 0, 0, 0, ...]   \n",
       "12                                                                                                   [101, 29175, 2389, 2003, 4288, 2009, 9906, 8840, 2140, 102, 0, 0, 0, 0, 0, 0, 0, 0, 0, 0, 0, 0, 0, 0, 0, 0, 0, 0, 0, 0, 0, 0, 0, 0, 0, 0, 0, 0, 0, 0, 0, 0, 0, 0, 0, 0, 0, 0, 0, 0, 0, 0, 0, 0, 0, 0, 0, 0, 0, 0, 0, 0, 0, 0, 0, 0, 0, 0, 0, 0, 0, 0, 0, 0, 0, 0, 0, 0, 0, 0, 0, 0, 0, 0, 0, 0, 0, 0, 0, 0, 0, 0, 0, 0, 0, 0, 0, 0, 0, 0, ...]   \n",
       "23                                    [101, 2004, 3449, 2239, 4136, 1996, 4748, 16874, 26470, 2869, 2000, 2175, 1042, 3209, 9802, 9010, 2010, 2240, 1997, 15147, 2005, 2566, 16252, 2129, 2064, 3087, 3335, 2023, 2028, 102, 0, 0, 0, 0, 0, 0, 0, 0, 0, 0, 0, 0, 0, 0, 0, 0, 0, 0, 0, 0, 0, 0, 0, 0, 0, 0, 0, 0, 0, 0, 0, 0, 0, 0, 0, 0, 0, 0, 0, 0, 0, 0, 0, 0, 0, 0, 0, 0, 0, 0, 0, 0, 0, 0, 0, 0, 0, 0, 0, 0, 0, 0, 0, 0, 0, 0, 0, 0, 0, 0, ...]   \n",
       "35                                                                                     [101, 2054, 2055, 1037, 2265, 2073, 2017, 20302, 23274, 2115, 2219, 6351, 24629, 102, 0, 0, 0, 0, 0, 0, 0, 0, 0, 0, 0, 0, 0, 0, 0, 0, 0, 0, 0, 0, 0, 0, 0, 0, 0, 0, 0, 0, 0, 0, 0, 0, 0, 0, 0, 0, 0, 0, 0, 0, 0, 0, 0, 0, 0, 0, 0, 0, 0, 0, 0, 0, 0, 0, 0, 0, 0, 0, 0, 0, 0, 0, 0, 0, 0, 0, 0, 0, 0, 0, 0, 0, 0, 0, 0, 0, 0, 0, 0, 0, 0, 0, 0, 0, 0, 0, ...]   \n",
       "60                                      [101, 2307, 4357, 2007, 9802, 2860, 12707, 1996, 4945, 1997, 2330, 4886, 2604, 4136, 2149, 2003, 2008, 9932, 2097, 2131, 2041, 1997, 2192, 14148, 1998, 5703, 2015, 2097, 8246, 102, 0, 0, 0, 0, 0, 0, 0, 0, 0, 0, 0, 0, 0, 0, 0, 0, 0, 0, 0, 0, 0, 0, 0, 0, 0, 0, 0, 0, 0, 0, 0, 0, 0, 0, 0, 0, 0, 0, 0, 0, 0, 0, 0, 0, 0, 0, 0, 0, 0, 0, 0, 0, 0, 0, 0, 0, 0, 0, 0, 0, 0, 0, 0, 0, 0, 0, 0, 0, 0, 0, ...]   \n",
       "69                                               [101, 2061, 2065, 2057, 2024, 5870, 2012, 4784, 2292, 2033, 5466, 2008, 2028, 1999, 1996, 6045, 1998, 2057, 2064, 2031, 1037, 16405, 3489, 29290, 4756, 2886, 102, 0, 0, 0, 0, 0, 0, 0, 0, 0, 0, 0, 0, 0, 0, 0, 0, 0, 0, 0, 0, 0, 0, 0, 0, 0, 0, 0, 0, 0, 0, 0, 0, 0, 0, 0, 0, 0, 0, 0, 0, 0, 0, 0, 0, 0, 0, 0, 0, 0, 0, 0, 0, 0, 0, 0, 0, 0, 0, 0, 0, 0, 0, 0, 0, 0, 0, 0, 0, 0, 0, 0, 0, 0, ...]   \n",
       "125                                        [101, 2153, 1045, 2052, 2031, 2042, 2330, 2000, 4994, 1037, 2062, 7481, 16110, 2007, 9802, 2021, 2023, 2074, 2081, 2033, 2514, 2066, 2017, 2435, 2032, 1037, 23893, 3538, 102, 0, 0, 0, 0, 0, 0, 0, 0, 0, 0, 0, 0, 0, 0, 0, 0, 0, 0, 0, 0, 0, 0, 0, 0, 0, 0, 0, 0, 0, 0, 0, 0, 0, 0, 0, 0, 0, 0, 0, 0, 0, 0, 0, 0, 0, 0, 0, 0, 0, 0, 0, 0, 0, 0, 0, 0, 0, 0, 0, 0, 0, 0, 0, 0, 0, 0, 0, 0, 0, 0, 0, ...]   \n",
       "165                                                                                      [101, 21762, 2024, 2183, 2000, 9209, 2008, 4636, 7226, 2368, 3722, 4583, 8117, 102, 0, 0, 0, 0, 0, 0, 0, 0, 0, 0, 0, 0, 0, 0, 0, 0, 0, 0, 0, 0, 0, 0, 0, 0, 0, 0, 0, 0, 0, 0, 0, 0, 0, 0, 0, 0, 0, 0, 0, 0, 0, 0, 0, 0, 0, 0, 0, 0, 0, 0, 0, 0, 0, 0, 0, 0, 0, 0, 0, 0, 0, 0, 0, 0, 0, 0, 0, 0, 0, 0, 0, 0, 0, 0, 0, 0, 0, 0, 0, 0, 0, 0, 0, 0, 0, 0, ...]   \n",
       "175                                                                                                 [101, 2062, 10506, 4523, 2084, 17107, 3642, 2197, 2051, 102, 0, 0, 0, 0, 0, 0, 0, 0, 0, 0, 0, 0, 0, 0, 0, 0, 0, 0, 0, 0, 0, 0, 0, 0, 0, 0, 0, 0, 0, 0, 0, 0, 0, 0, 0, 0, 0, 0, 0, 0, 0, 0, 0, 0, 0, 0, 0, 0, 0, 0, 0, 0, 0, 0, 0, 0, 0, 0, 0, 0, 0, 0, 0, 0, 0, 0, 0, 0, 0, 0, 0, 0, 0, 0, 0, 0, 0, 0, 0, 0, 0, 0, 0, 0, 0, 0, 0, 0, 0, 0, ...]   \n",
       "176                                                                                                               [101, 9802, 2003, 1996, 2158, 102, 0, 0, 0, 0, 0, 0, 0, 0, 0, 0, 0, 0, 0, 0, 0, 0, 0, 0, 0, 0, 0, 0, 0, 0, 0, 0, 0, 0, 0, 0, 0, 0, 0, 0, 0, 0, 0, 0, 0, 0, 0, 0, 0, 0, 0, 0, 0, 0, 0, 0, 0, 0, 0, 0, 0, 0, 0, 0, 0, 0, 0, 0, 0, 0, 0, 0, 0, 0, 0, 0, 0, 0, 0, 0, 0, 0, 0, 0, 0, 0, 0, 0, 0, 0, 0, 0, 0, 0, 0, 0, 0, 0, 0, 0, ...]   \n",
       "182                                                                                     [101, 9802, 22226, 2064, 2102, 2903, 2017, 4364, 2288, 2032, 1999, 1996, 17491, 102, 0, 0, 0, 0, 0, 0, 0, 0, 0, 0, 0, 0, 0, 0, 0, 0, 0, 0, 0, 0, 0, 0, 0, 0, 0, 0, 0, 0, 0, 0, 0, 0, 0, 0, 0, 0, 0, 0, 0, 0, 0, 0, 0, 0, 0, 0, 0, 0, 0, 0, 0, 0, 0, 0, 0, 0, 0, 0, 0, 0, 0, 0, 0, 0, 0, 0, 0, 0, 0, 0, 0, 0, 0, 0, 0, 0, 0, 0, 0, 0, 0, 0, 0, 0, 0, 0, ...]   \n",
       "192  [101, 4074, 3557, 2003, 1999, 1996, 5196, 2667, 4933, 2070, 2097, 2147, 2070, 2180, 2102, 2021, 2002, 2015, 2467, 4083, 2002, 2288, 1996, 7525, 8103, 9714, 3308, 2021, 2012, 2560, 2002, 2015, 1999, 1996, 5196, 4214, 2041, 9530, 13102, 7895, 9243, 102, 0, 0, 0, 0, 0, 0, 0, 0, 0, 0, 0, 0, 0, 0, 0, 0, 0, 0, 0, 0, 0, 0, 0, 0, 0, 0, 0, 0, 0, 0, 0, 0, 0, 0, 0, 0, 0, 0, 0, 0, 0, 0, 0, 0, 0, 0, 0, 0, 0, 0, 0, 0, 0, 0, 0, 0, 0, 0, ...]   \n",
       "194                                                                             [101, 3835, 15775, 18900, 2232, 1996, 22301, 10216, 2121, 2038, 2468, 3472, 1997, 1996, 5793, 102, 0, 0, 0, 0, 0, 0, 0, 0, 0, 0, 0, 0, 0, 0, 0, 0, 0, 0, 0, 0, 0, 0, 0, 0, 0, 0, 0, 0, 0, 0, 0, 0, 0, 0, 0, 0, 0, 0, 0, 0, 0, 0, 0, 0, 0, 0, 0, 0, 0, 0, 0, 0, 0, 0, 0, 0, 0, 0, 0, 0, 0, 0, 0, 0, 0, 0, 0, 0, 0, 0, 0, 0, 0, 0, 0, 0, 0, 0, 0, 0, 0, 0, 0, 0, ...]   \n",
       "210                                                                                                                     [101, 1041, 2860, 102, 0, 0, 0, 0, 0, 0, 0, 0, 0, 0, 0, 0, 0, 0, 0, 0, 0, 0, 0, 0, 0, 0, 0, 0, 0, 0, 0, 0, 0, 0, 0, 0, 0, 0, 0, 0, 0, 0, 0, 0, 0, 0, 0, 0, 0, 0, 0, 0, 0, 0, 0, 0, 0, 0, 0, 0, 0, 0, 0, 0, 0, 0, 0, 0, 0, 0, 0, 0, 0, 0, 0, 0, 0, 0, 0, 0, 0, 0, 0, 0, 0, 0, 0, 0, 0, 0, 0, 0, 0, 0, 0, 0, 0, 0, 0, 0, ...]   \n",
       "245                                                                                                                  [101, 2035, 3268, 3043, 102, 0, 0, 0, 0, 0, 0, 0, 0, 0, 0, 0, 0, 0, 0, 0, 0, 0, 0, 0, 0, 0, 0, 0, 0, 0, 0, 0, 0, 0, 0, 0, 0, 0, 0, 0, 0, 0, 0, 0, 0, 0, 0, 0, 0, 0, 0, 0, 0, 0, 0, 0, 0, 0, 0, 0, 0, 0, 0, 0, 0, 0, 0, 0, 0, 0, 0, 0, 0, 0, 0, 0, 0, 0, 0, 0, 0, 0, 0, 0, 0, 0, 0, 0, 0, 0, 0, 0, 0, 0, 0, 0, 0, 0, 0, 0, ...]   \n",
       "254                                                                      [101, 14918, 2003, 1996, 3114, 1045, 2562, 2746, 2067, 2000, 4952, 2000, 1037, 9129, 1997, 18294, 4138, 4364, 102, 0, 0, 0, 0, 0, 0, 0, 0, 0, 0, 0, 0, 0, 0, 0, 0, 0, 0, 0, 0, 0, 0, 0, 0, 0, 0, 0, 0, 0, 0, 0, 0, 0, 0, 0, 0, 0, 0, 0, 0, 0, 0, 0, 0, 0, 0, 0, 0, 0, 0, 0, 0, 0, 0, 0, 0, 0, 0, 0, 0, 0, 0, 0, 0, 0, 0, 0, 0, 0, 0, 0, 0, 0, 0, 0, 0, 0, 0, 0, 0, 0, ...]   \n",
       "256                                                                                [101, 9802, 23253, 2033, 2041, 1045, 2064, 2102, 4863, 2339, 1045, 3227, 5993, 2007, 2032, 102, 0, 0, 0, 0, 0, 0, 0, 0, 0, 0, 0, 0, 0, 0, 0, 0, 0, 0, 0, 0, 0, 0, 0, 0, 0, 0, 0, 0, 0, 0, 0, 0, 0, 0, 0, 0, 0, 0, 0, 0, 0, 0, 0, 0, 0, 0, 0, 0, 0, 0, 0, 0, 0, 0, 0, 0, 0, 0, 0, 0, 0, 0, 0, 0, 0, 0, 0, 0, 0, 0, 0, 0, 0, 0, 0, 0, 0, 0, 0, 0, 0, 0, 0, 0, ...]   \n",
       "277                                       [101, 13017, 4059, 2015, 4676, 23323, 2004, 1037, 2385, 2100, 2214, 3331, 2041, 1997, 2010, 4632, 2055, 2151, 3395, 2002, 2038, 2053, 9789, 2055, 2092, 2589, 13017, 4059, 102, 0, 0, 0, 0, 0, 0, 0, 0, 0, 0, 0, 0, 0, 0, 0, 0, 0, 0, 0, 0, 0, 0, 0, 0, 0, 0, 0, 0, 0, 0, 0, 0, 0, 0, 0, 0, 0, 0, 0, 0, 0, 0, 0, 0, 0, 0, 0, 0, 0, 0, 0, 0, 0, 0, 0, 0, 0, 0, 0, 0, 0, 0, 0, 0, 0, 0, 0, 0, 0, 0, 0, ...]   \n",
       "\n",
       "                                                                                                                                                                                                                                                                                                        attention_mask  \\\n",
       "7    [1, 1, 1, 1, 1, 1, 1, 1, 1, 1, 1, 0, 0, 0, 0, 0, 0, 0, 0, 0, 0, 0, 0, 0, 0, 0, 0, 0, 0, 0, 0, 0, 0, 0, 0, 0, 0, 0, 0, 0, 0, 0, 0, 0, 0, 0, 0, 0, 0, 0, 0, 0, 0, 0, 0, 0, 0, 0, 0, 0, 0, 0, 0, 0, 0, 0, 0, 0, 0, 0, 0, 0, 0, 0, 0, 0, 0, 0, 0, 0, 0, 0, 0, 0, 0, 0, 0, 0, 0, 0, 0, 0, 0, 0, 0, 0, 0, 0, 0, 0, ...]   \n",
       "12   [1, 1, 1, 1, 1, 1, 1, 1, 1, 1, 0, 0, 0, 0, 0, 0, 0, 0, 0, 0, 0, 0, 0, 0, 0, 0, 0, 0, 0, 0, 0, 0, 0, 0, 0, 0, 0, 0, 0, 0, 0, 0, 0, 0, 0, 0, 0, 0, 0, 0, 0, 0, 0, 0, 0, 0, 0, 0, 0, 0, 0, 0, 0, 0, 0, 0, 0, 0, 0, 0, 0, 0, 0, 0, 0, 0, 0, 0, 0, 0, 0, 0, 0, 0, 0, 0, 0, 0, 0, 0, 0, 0, 0, 0, 0, 0, 0, 0, 0, 0, ...]   \n",
       "23   [1, 1, 1, 1, 1, 1, 1, 1, 1, 1, 1, 1, 1, 1, 1, 1, 1, 1, 1, 1, 1, 1, 1, 1, 1, 1, 1, 1, 1, 1, 0, 0, 0, 0, 0, 0, 0, 0, 0, 0, 0, 0, 0, 0, 0, 0, 0, 0, 0, 0, 0, 0, 0, 0, 0, 0, 0, 0, 0, 0, 0, 0, 0, 0, 0, 0, 0, 0, 0, 0, 0, 0, 0, 0, 0, 0, 0, 0, 0, 0, 0, 0, 0, 0, 0, 0, 0, 0, 0, 0, 0, 0, 0, 0, 0, 0, 0, 0, 0, 0, ...]   \n",
       "35   [1, 1, 1, 1, 1, 1, 1, 1, 1, 1, 1, 1, 1, 1, 0, 0, 0, 0, 0, 0, 0, 0, 0, 0, 0, 0, 0, 0, 0, 0, 0, 0, 0, 0, 0, 0, 0, 0, 0, 0, 0, 0, 0, 0, 0, 0, 0, 0, 0, 0, 0, 0, 0, 0, 0, 0, 0, 0, 0, 0, 0, 0, 0, 0, 0, 0, 0, 0, 0, 0, 0, 0, 0, 0, 0, 0, 0, 0, 0, 0, 0, 0, 0, 0, 0, 0, 0, 0, 0, 0, 0, 0, 0, 0, 0, 0, 0, 0, 0, 0, ...]   \n",
       "60   [1, 1, 1, 1, 1, 1, 1, 1, 1, 1, 1, 1, 1, 1, 1, 1, 1, 1, 1, 1, 1, 1, 1, 1, 1, 1, 1, 1, 1, 1, 0, 0, 0, 0, 0, 0, 0, 0, 0, 0, 0, 0, 0, 0, 0, 0, 0, 0, 0, 0, 0, 0, 0, 0, 0, 0, 0, 0, 0, 0, 0, 0, 0, 0, 0, 0, 0, 0, 0, 0, 0, 0, 0, 0, 0, 0, 0, 0, 0, 0, 0, 0, 0, 0, 0, 0, 0, 0, 0, 0, 0, 0, 0, 0, 0, 0, 0, 0, 0, 0, ...]   \n",
       "69   [1, 1, 1, 1, 1, 1, 1, 1, 1, 1, 1, 1, 1, 1, 1, 1, 1, 1, 1, 1, 1, 1, 1, 1, 1, 1, 1, 0, 0, 0, 0, 0, 0, 0, 0, 0, 0, 0, 0, 0, 0, 0, 0, 0, 0, 0, 0, 0, 0, 0, 0, 0, 0, 0, 0, 0, 0, 0, 0, 0, 0, 0, 0, 0, 0, 0, 0, 0, 0, 0, 0, 0, 0, 0, 0, 0, 0, 0, 0, 0, 0, 0, 0, 0, 0, 0, 0, 0, 0, 0, 0, 0, 0, 0, 0, 0, 0, 0, 0, 0, ...]   \n",
       "125  [1, 1, 1, 1, 1, 1, 1, 1, 1, 1, 1, 1, 1, 1, 1, 1, 1, 1, 1, 1, 1, 1, 1, 1, 1, 1, 1, 1, 1, 0, 0, 0, 0, 0, 0, 0, 0, 0, 0, 0, 0, 0, 0, 0, 0, 0, 0, 0, 0, 0, 0, 0, 0, 0, 0, 0, 0, 0, 0, 0, 0, 0, 0, 0, 0, 0, 0, 0, 0, 0, 0, 0, 0, 0, 0, 0, 0, 0, 0, 0, 0, 0, 0, 0, 0, 0, 0, 0, 0, 0, 0, 0, 0, 0, 0, 0, 0, 0, 0, 0, ...]   \n",
       "165  [1, 1, 1, 1, 1, 1, 1, 1, 1, 1, 1, 1, 1, 1, 0, 0, 0, 0, 0, 0, 0, 0, 0, 0, 0, 0, 0, 0, 0, 0, 0, 0, 0, 0, 0, 0, 0, 0, 0, 0, 0, 0, 0, 0, 0, 0, 0, 0, 0, 0, 0, 0, 0, 0, 0, 0, 0, 0, 0, 0, 0, 0, 0, 0, 0, 0, 0, 0, 0, 0, 0, 0, 0, 0, 0, 0, 0, 0, 0, 0, 0, 0, 0, 0, 0, 0, 0, 0, 0, 0, 0, 0, 0, 0, 0, 0, 0, 0, 0, 0, ...]   \n",
       "175  [1, 1, 1, 1, 1, 1, 1, 1, 1, 1, 0, 0, 0, 0, 0, 0, 0, 0, 0, 0, 0, 0, 0, 0, 0, 0, 0, 0, 0, 0, 0, 0, 0, 0, 0, 0, 0, 0, 0, 0, 0, 0, 0, 0, 0, 0, 0, 0, 0, 0, 0, 0, 0, 0, 0, 0, 0, 0, 0, 0, 0, 0, 0, 0, 0, 0, 0, 0, 0, 0, 0, 0, 0, 0, 0, 0, 0, 0, 0, 0, 0, 0, 0, 0, 0, 0, 0, 0, 0, 0, 0, 0, 0, 0, 0, 0, 0, 0, 0, 0, ...]   \n",
       "176  [1, 1, 1, 1, 1, 1, 0, 0, 0, 0, 0, 0, 0, 0, 0, 0, 0, 0, 0, 0, 0, 0, 0, 0, 0, 0, 0, 0, 0, 0, 0, 0, 0, 0, 0, 0, 0, 0, 0, 0, 0, 0, 0, 0, 0, 0, 0, 0, 0, 0, 0, 0, 0, 0, 0, 0, 0, 0, 0, 0, 0, 0, 0, 0, 0, 0, 0, 0, 0, 0, 0, 0, 0, 0, 0, 0, 0, 0, 0, 0, 0, 0, 0, 0, 0, 0, 0, 0, 0, 0, 0, 0, 0, 0, 0, 0, 0, 0, 0, 0, ...]   \n",
       "182  [1, 1, 1, 1, 1, 1, 1, 1, 1, 1, 1, 1, 1, 1, 0, 0, 0, 0, 0, 0, 0, 0, 0, 0, 0, 0, 0, 0, 0, 0, 0, 0, 0, 0, 0, 0, 0, 0, 0, 0, 0, 0, 0, 0, 0, 0, 0, 0, 0, 0, 0, 0, 0, 0, 0, 0, 0, 0, 0, 0, 0, 0, 0, 0, 0, 0, 0, 0, 0, 0, 0, 0, 0, 0, 0, 0, 0, 0, 0, 0, 0, 0, 0, 0, 0, 0, 0, 0, 0, 0, 0, 0, 0, 0, 0, 0, 0, 0, 0, 0, ...]   \n",
       "192  [1, 1, 1, 1, 1, 1, 1, 1, 1, 1, 1, 1, 1, 1, 1, 1, 1, 1, 1, 1, 1, 1, 1, 1, 1, 1, 1, 1, 1, 1, 1, 1, 1, 1, 1, 1, 1, 1, 1, 1, 1, 1, 0, 0, 0, 0, 0, 0, 0, 0, 0, 0, 0, 0, 0, 0, 0, 0, 0, 0, 0, 0, 0, 0, 0, 0, 0, 0, 0, 0, 0, 0, 0, 0, 0, 0, 0, 0, 0, 0, 0, 0, 0, 0, 0, 0, 0, 0, 0, 0, 0, 0, 0, 0, 0, 0, 0, 0, 0, 0, ...]   \n",
       "194  [1, 1, 1, 1, 1, 1, 1, 1, 1, 1, 1, 1, 1, 1, 1, 1, 0, 0, 0, 0, 0, 0, 0, 0, 0, 0, 0, 0, 0, 0, 0, 0, 0, 0, 0, 0, 0, 0, 0, 0, 0, 0, 0, 0, 0, 0, 0, 0, 0, 0, 0, 0, 0, 0, 0, 0, 0, 0, 0, 0, 0, 0, 0, 0, 0, 0, 0, 0, 0, 0, 0, 0, 0, 0, 0, 0, 0, 0, 0, 0, 0, 0, 0, 0, 0, 0, 0, 0, 0, 0, 0, 0, 0, 0, 0, 0, 0, 0, 0, 0, ...]   \n",
       "210  [1, 1, 1, 1, 0, 0, 0, 0, 0, 0, 0, 0, 0, 0, 0, 0, 0, 0, 0, 0, 0, 0, 0, 0, 0, 0, 0, 0, 0, 0, 0, 0, 0, 0, 0, 0, 0, 0, 0, 0, 0, 0, 0, 0, 0, 0, 0, 0, 0, 0, 0, 0, 0, 0, 0, 0, 0, 0, 0, 0, 0, 0, 0, 0, 0, 0, 0, 0, 0, 0, 0, 0, 0, 0, 0, 0, 0, 0, 0, 0, 0, 0, 0, 0, 0, 0, 0, 0, 0, 0, 0, 0, 0, 0, 0, 0, 0, 0, 0, 0, ...]   \n",
       "245  [1, 1, 1, 1, 1, 0, 0, 0, 0, 0, 0, 0, 0, 0, 0, 0, 0, 0, 0, 0, 0, 0, 0, 0, 0, 0, 0, 0, 0, 0, 0, 0, 0, 0, 0, 0, 0, 0, 0, 0, 0, 0, 0, 0, 0, 0, 0, 0, 0, 0, 0, 0, 0, 0, 0, 0, 0, 0, 0, 0, 0, 0, 0, 0, 0, 0, 0, 0, 0, 0, 0, 0, 0, 0, 0, 0, 0, 0, 0, 0, 0, 0, 0, 0, 0, 0, 0, 0, 0, 0, 0, 0, 0, 0, 0, 0, 0, 0, 0, 0, ...]   \n",
       "254  [1, 1, 1, 1, 1, 1, 1, 1, 1, 1, 1, 1, 1, 1, 1, 1, 1, 1, 1, 0, 0, 0, 0, 0, 0, 0, 0, 0, 0, 0, 0, 0, 0, 0, 0, 0, 0, 0, 0, 0, 0, 0, 0, 0, 0, 0, 0, 0, 0, 0, 0, 0, 0, 0, 0, 0, 0, 0, 0, 0, 0, 0, 0, 0, 0, 0, 0, 0, 0, 0, 0, 0, 0, 0, 0, 0, 0, 0, 0, 0, 0, 0, 0, 0, 0, 0, 0, 0, 0, 0, 0, 0, 0, 0, 0, 0, 0, 0, 0, 0, ...]   \n",
       "256  [1, 1, 1, 1, 1, 1, 1, 1, 1, 1, 1, 1, 1, 1, 1, 1, 0, 0, 0, 0, 0, 0, 0, 0, 0, 0, 0, 0, 0, 0, 0, 0, 0, 0, 0, 0, 0, 0, 0, 0, 0, 0, 0, 0, 0, 0, 0, 0, 0, 0, 0, 0, 0, 0, 0, 0, 0, 0, 0, 0, 0, 0, 0, 0, 0, 0, 0, 0, 0, 0, 0, 0, 0, 0, 0, 0, 0, 0, 0, 0, 0, 0, 0, 0, 0, 0, 0, 0, 0, 0, 0, 0, 0, 0, 0, 0, 0, 0, 0, 0, ...]   \n",
       "277  [1, 1, 1, 1, 1, 1, 1, 1, 1, 1, 1, 1, 1, 1, 1, 1, 1, 1, 1, 1, 1, 1, 1, 1, 1, 1, 1, 1, 1, 0, 0, 0, 0, 0, 0, 0, 0, 0, 0, 0, 0, 0, 0, 0, 0, 0, 0, 0, 0, 0, 0, 0, 0, 0, 0, 0, 0, 0, 0, 0, 0, 0, 0, 0, 0, 0, 0, 0, 0, 0, 0, 0, 0, 0, 0, 0, 0, 0, 0, 0, 0, 0, 0, 0, 0, 0, 0, 0, 0, 0, 0, 0, 0, 0, 0, 0, 0, 0, 0, 0, ...]   \n",
       "\n",
       "     predicted_probability  predicted_label  \n",
       "7                 0.716375                1  \n",
       "12                0.107166                0  \n",
       "23                0.004524                0  \n",
       "35                0.869806                1  \n",
       "60                0.002868                0  \n",
       "69                0.690708                1  \n",
       "125               0.991983                1  \n",
       "165               0.922473                1  \n",
       "175               0.918181                1  \n",
       "176               0.260404                0  \n",
       "182               0.016851                0  \n",
       "192               0.004378                0  \n",
       "194               0.995641                1  \n",
       "210               0.953038                1  \n",
       "245               0.004128                0  \n",
       "254               0.004036                0  \n",
       "256               0.638078                1  \n",
       "277               0.014590                0  "
      ]
     },
     "execution_count": 17,
     "metadata": {},
     "output_type": "execute_result"
    }
   ],
   "source": [
    "pd.set_option(\"display.max_colwidth\", None)\n",
    "\n",
    "predicted_labels = (predictions_test >= 0.5).astype(int).flatten()\n",
    "\n",
    "true_labels = label_test.flatten()\n",
    "\n",
    "misclasified_indices = np.where(predicted_labels != true_labels)[0]\n",
    "\n",
    "misclasified_samples = df_test.iloc[misclasified_indices]\n",
    "\n",
    "misclasified_probabilities = predictions_test[misclasified_indices]\n",
    "\n",
    "misclasified_df = misclasified_samples.assign(\n",
    "    predicted_probability = misclasified_probabilities,\n",
    "    predicted_label = predicted_labels[misclasified_indices]\n",
    ")\n",
    "\n",
    "misclasified_df.head(20)"
   ]
  },
  {
   "cell_type": "markdown",
   "metadata": {},
   "source": [
    "### Comparing Default DistilBERT to Fine-Tuned Model for YouTube Sentiment Classification\n",
    "In the upcoming analysis, I will compare the default DistilBERT model (distilbert-base-uncased) to a fine-tuned version that has been trained on a Twitter dataset. The objective is to evaluate whether the fine-tuned model, originally tailored for sentiment analysis on Twitter, can effectively generalize its knowledge to sentiment classification on a YouTube channel with a substantial overlap of users."
   ]
  },
  {
   "cell_type": "code",
   "execution_count": 28,
   "metadata": {},
   "outputs": [
    {
     "name": "stderr",
     "output_type": "stream",
     "text": [
      "Some weights of the PyTorch model were not used when initializing the TF 2.0 model TFDistilBertModel: ['vocab_transform.bias', 'vocab_projector.bias', 'vocab_layer_norm.bias', 'vocab_transform.weight', 'vocab_layer_norm.weight']\n",
      "- This IS expected if you are initializing TFDistilBertModel from a PyTorch model trained on another task or with another architecture (e.g. initializing a TFBertForSequenceClassification model from a BertForPreTraining model).\n",
      "- This IS NOT expected if you are initializing TFDistilBertModel from a PyTorch model that you expect to be exactly identical (e.g. initializing a TFBertForSequenceClassification model from a BertForSequenceClassification model).\n",
      "All the weights of TFDistilBertModel were initialized from the PyTorch model.\n",
      "If your task is similar to the task the model of the checkpoint was trained on, you can already use TFDistilBertModel for predictions without further training.\n"
     ]
    }
   ],
   "source": [
    "import tensorflow as tf\n",
    "from transformers import TFDistilBertModel\n",
    "\n",
    "def create_base_model(max_length=103, dropout_rate=0.3):\n",
    "    distilbert_base = TFDistilBertModel.from_pretrained(\"distilbert-base-uncased\")\n",
    "\n",
    "    input_ids = tf.keras.layers.Input(shape=(max_length,), dtype=\"int32\", name=\"input_ids\")\n",
    "    attention_mask = tf.keras.layers.Input(shape=(max_length,), dtype=\"int32\", name=\"attention_mask\")\n",
    "\n",
    "    distilbert_output = distilbert_base(input_ids=input_ids, attention_mask=attention_mask)\n",
    "\n",
    "    pooled_output = distilbert_output[0][:, 0]\n",
    "    dropout = tf.keras.layers.Dropout(dropout_rate)(pooled_output)\n",
    "    output = tf.keras.layers.Dense(1, activation=\"sigmoid\")(dropout)\n",
    "\n",
    "    base_model = tf.keras.Model(inputs=[input_ids, attention_mask], outputs=output)\n",
    "\n",
    "    optimizer = tf.keras.optimizers.Adam(learning_rate=3e-5)\n",
    "    base_model.compile(optimizer=optimizer, loss=\"binary_crossentropy\", metrics=[\"accuracy\"])\n",
    "\n",
    "    return base_model\n",
    "\n",
    "base_model = create_base_model(max_length=103, dropout_rate=0.3)"
   ]
  },
  {
   "cell_type": "code",
   "execution_count": 37,
   "metadata": {},
   "outputs": [
    {
     "name": "stdout",
     "output_type": "stream",
     "text": [
      "5/5 [==============================] - 3s 618ms/step\n",
      "Predicted Labels for the YouTube comment dataset: [0 0 0 0 0 0 0 0 0 0 0 0 0 0 0 0 0 0 0 0 0 0 0 0 0 0 0 0 0 0 0 0 0 0 0 0 0\n",
      " 0 0 0 0 0 0 0 0 0 0 0 0 0 0 0 0 0 0 0 0 0 0 0 0 0 0 0 0 0 0 0 0 0 0 0 0 0\n",
      " 0 0 0 0 0 0 0 0 0 0 0 0 0 0 0 0 0 0 0 0 0 0 0 0 0 0 0 0 0 0 0 0 0 0 0 0 0\n",
      " 0 0 0 0 0 0 0 0 0 0 0 0 0 0 0 0 0 0 0 0 0 0 0 0 0 0 0 0 0 0 0 0 0 0 0 0 0\n",
      " 0]\n"
     ]
    },
    {
     "data": {
      "image/png": "[encoded data removed]",
      "text/plain": [
       "<Figure size 640x480 with 1 Axes>"
      ]
     },
     "metadata": {},
     "output_type": "display_data"
    }
   ],
   "source": [
    "import matplotlib.pyplot as plt\n",
    "\n",
    "# Making predictions on the YouTube dataset\n",
    "predictions_test_2 = base_model.predict(test_dataset)\n",
    "\n",
    "# Getting the predicted values (1 if probability >= 0.5, else 0)\n",
    "predicted_labels_2 = (predictions_test_2 >= 0.5).astype(int)\n",
    "\n",
    "print(\"Predicted Labels for the YouTube comment dataset:\", predicted_labels_2.flatten())\n",
    "\n",
    "plt.hist(predictions_test_2, bins=50)\n",
    "plt.title(\"Distribution of Prediction Probabilities\")\n",
    "plt.xlabel(\"Probability\")\n",
    "plt.ylabel(\"Frequency\")\n",
    "plt.show()"
   ]
  },
  {
   "cell_type": "code",
   "execution_count": 38,
   "metadata": {},
   "outputs": [
    {
     "name": "stdout",
     "output_type": "stream",
     "text": [
      "5/5 - 3s - loss: 0.7577 - accuracy: 0.5168 - 3s/epoch - 630ms/step\n",
      "Test Loss: 0.7577, Test Accuracy: 0.5168\n"
     ]
    }
   ],
   "source": [
    "test_loss, test_accuracy = base_model.evaluate(test_dataset, verbose=2)\n",
    "print(f\"Test Loss: {test_loss:.4f}, Test Accuracy: {test_accuracy:.4f}\")"
   ]
  },
  {
   "cell_type": "markdown",
   "metadata": {},
   "source": [
    "In this study, I investigated the effectiveness of fine-tuning the distilbert-base-uncased model on task-specific datasets, namely YouTube comments and Twitter posts, to assess its impact on model performance. My findings highlight the necessity of fine-tuning for adapting pre-trained models to specialized tasks, a process central to achieving high accuracy in machine learning applications.\n",
    "\n",
    "The base model, applied directly to the datasets without fine-tuning, demonstrated a propensity to predict a single class—indicating a lack of nuanced understanding necessary for the classification tasks at hand. Specifically, it predicted solely one class for the YouTube comments and predominantly another for the Twitter dataset. This behavior underscores the model's limitations when used \"out of the box\" for specific classification tasks, as evidenced by its marginal accuracy improvement over random guessing.\n",
    "\n",
    "Through fine-tuning, however, I observed a significant enhancement in model performance, confirming that adapting a model to the peculiarities of a task-specific dataset is crucial. This process leverages the general language understanding capabilities developed during pre-training, refining them to capture the unique patterns and nuances of the target data.\n",
    "\n",
    "My experiments thus underscore the value of fine-tuning in the context of transfer learning, demonstrating its critical role in optimizing pre-trained models for specialized NLP tasks. The stark contrast in performance between the base and fine-tuned models not only validates the effectiveness of fine-tuning but also highlights its indispensability for practitioners aiming to deploy machine learning models in applied settings."
   ]
  },
  {
   "cell_type": "code",
   "execution_count": 39,
   "metadata": {},
   "outputs": [
    {
     "data": {
      "image/png": "[encoded data removed]",
      "text/plain": [
       "<Figure size 800x600 with 1 Axes>"
      ]
     },
     "metadata": {},
     "output_type": "display_data"
    }
   ],
   "source": [
    "import matplotlib.pyplot as plt\n",
    "from sklearn.metrics import roc_curve, auc\n",
    "\n",
    "# Fine-tuned model ROC\n",
    "fpr_fine, tpr_fine, thresholds_fine = roc_curve(label_test, predictions_test)\n",
    "roc_auc_fine = auc(fpr_fine, tpr_fine)\n",
    "\n",
    "# Base model ROC\n",
    "fpr_base, tpr_base, thresholds_base = roc_curve(label_test, predictions_test_2)\n",
    "roc_auc_base = auc(fpr_base, tpr_base)\n",
    "\n",
    "# Plotting both ROC curves\n",
    "plt.figure(figsize=(8, 6))\n",
    "plt.plot(fpr_fine, tpr_fine, color=\"blue\", lw=2, label=\"Fine-tuned ROC (area = %0.2f)\" % roc_auc_fine)\n",
    "plt.plot(fpr_base, tpr_base, color=\"red\", lw=2, label=\"Base ROC (area = %0.2f)\" % roc_auc_base)\n",
    "plt.plot([0, 1], [0, 1], color=\"gray\", lw=2, linestyle=\"--\")\n",
    "plt.xlim([0.0, 1.0])\n",
    "plt.ylim([0.0, 1.05])\n",
    "plt.xlabel(\"False Positive Rate\")\n",
    "plt.ylabel(\"True Positive Rate\")\n",
    "plt.title(\"Receiver Operating Characteristic Comparison\")\n",
    "plt.legend(loc=\"lower right\")\n",
    "plt.show()"
   ]
  }
 ],
 "metadata": {
  "kernelspec": {
   "display_name": "Python 3",
   "language": "python",
   "name": "python3"
  },
  "language_info": {
   "codemirror_mode": {
    "name": "ipython",
    "version": 3
   },
   "file_extension": ".py",
   "mimetype": "text/x-python",
   "name": "python",
   "nbconvert_exporter": "python",
   "pygments_lexer": "ipython3",
   "version": "3.11.8"
  }
 },
 "nbformat": 4,
 "nbformat_minor": 2
}
