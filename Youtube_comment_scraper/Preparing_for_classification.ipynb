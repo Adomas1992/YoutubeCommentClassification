{
 "cells": [
  {
   "cell_type": "code",
   "execution_count": 1,
   "metadata": {},
   "outputs": [],
   "source": [
    "import pandas as pd\n",
    "\n",
    "# Loading the comments dataset\n",
    "comments_df = pd.read_csv(\"comments.csv\")\n",
    "sample_size = 300\n",
    "comment_sample = comments_df.sample(n=sample_size, random_state=42)\n",
    "comment_sample.to_csv(\"comment_sample.csv\", index=False)\n",
    "df = pd.read_csv(\"comment_sample.csv\")"
   ]
  },
  {
   "cell_type": "code",
   "execution_count": 10,
   "metadata": {},
   "outputs": [
    {
     "name": "stdout",
     "output_type": "stream",
     "text": [
      "Label\n",
      "2    151\n",
      "0     77\n",
      "1     72\n",
      "Name: count, dtype: int64\n"
     ]
    }
   ],
   "source": [
    "label_counts = df[\"Label\"].value_counts()\n",
    "\n",
    "print(label_counts)"
   ]
  },
  {
   "cell_type": "markdown",
   "metadata": {},
   "source": [
    "\n",
    "### Sample Labeling for Testing\n",
    "\n",
    "In preparation for testing my fine-tuned DistilBERT model, I manually labeled a sample of 300 YouTube comments. The labeling process involved categorizing comments into three sentiment classes: 2 for neutral, 1 for positive, and 0 for negative. However, as the model was fine-tuned specifically for positive and negative sentiment analysis, I plan to remove the neutral class during evaluation to focus on the target sentiments.\n",
    "\n",
    "The positive and negative sentiment classes turned out to be randomly distributed, with approximately equal weighting. In the sample, there were 72 positive comments and 77 negative comments, while the remaining comments were labeled as neutral. This labeled sample will be used to assess the model's performance on YouTube comments, providing valuable insights into its ability to classify sentiments effectively."
   ]
  },
  {
   "cell_type": "code",
   "execution_count": 19,
   "metadata": {},
   "outputs": [
    {
     "data": {
      "text/html": [
       "<div>\n",
       "<style scoped>\n",
       "    .dataframe tbody tr th:only-of-type {\n",
       "        vertical-align: middle;\n",
       "    }\n",
       "\n",
       "    .dataframe tbody tr th {\n",
       "        vertical-align: top;\n",
       "    }\n",
       "\n",
       "    .dataframe thead th {\n",
       "        text-align: right;\n",
       "    }\n",
       "</style>\n",
       "<table border=\"1\" class=\"dataframe\">\n",
       "  <thead>\n",
       "    <tr style=\"text-align: right;\">\n",
       "      <th></th>\n",
       "      <th>Comment</th>\n",
       "      <th>Label</th>\n",
       "    </tr>\n",
       "  </thead>\n",
       "  <tbody>\n",
       "    <tr>\n",
       "      <th>5</th>\n",
       "      <td>You guys are clueless about buyers agents. The...</td>\n",
       "      <td>0</td>\n",
       "    </tr>\n",
       "    <tr>\n",
       "      <th>7</th>\n",
       "      <td>This guy sounds like ChatGpt wrote him 😂</td>\n",
       "      <td>0</td>\n",
       "    </tr>\n",
       "    <tr>\n",
       "      <th>10</th>\n",
       "      <td>These woke, sorry “red pill” takers, are going...</td>\n",
       "      <td>0</td>\n",
       "    </tr>\n",
       "    <tr>\n",
       "      <th>12</th>\n",
       "      <td>Jcal is killing it lately lol🤣</td>\n",
       "      <td>1</td>\n",
       "    </tr>\n",
       "    <tr>\n",
       "      <th>15</th>\n",
       "      <td>I love you JCAL!!</td>\n",
       "      <td>1</td>\n",
       "    </tr>\n",
       "  </tbody>\n",
       "</table>\n",
       "</div>"
      ],
      "text/plain": [
       "                                              Comment  Label\n",
       "5   You guys are clueless about buyers agents. The...      0\n",
       "7            This guy sounds like ChatGpt wrote him 😂      0\n",
       "10  These woke, sorry “red pill” takers, are going...      0\n",
       "12                     Jcal is killing it lately lol🤣      1\n",
       "15                                  I love you JCAL!!      1"
      ]
     },
     "execution_count": 19,
     "metadata": {},
     "output_type": "execute_result"
    }
   ],
   "source": [
    "df_test = df.drop(columns=\"Comment ID\")\n",
    "\n",
    "df_test = df_test[df_test[\"Label\"] != 2]\n",
    "\n",
    "df_test.head()"
   ]
  },
  {
   "cell_type": "code",
   "execution_count": 22,
   "metadata": {},
   "outputs": [],
   "source": [
    "import tensorflow as tf\n",
    "from transformers import DistilBertTokenizer\n",
    "\n",
    "tokenizer = DistilBertTokenizer.from_pretrained(\"distilbert-base-uncased\")\n",
    "\n",
    "# Extracting the comments from the test dataset\n",
    "youtube_comments = df_test[\"Comment\"].tolist()\n",
    "\n",
    "# Tokenizing the YouTube comments using the same tokinzer\n",
    "tokenized_youtube_comments = tokenizer(\n",
    "    youtube_comments,\n",
    "    padding=True,\n",
    "    truncation=True,\n",
    "    max_length=103,\n",
    "    return_tensors=\"tf\"\n",
    ")\n",
    "\n",
    "# Extracing input IDs and attenetion mask for the test dataset\n",
    "input_ids_test = tokenized_youtube_comments[\"input_ids\"]\n",
    "attention_mask_test = tokenized_youtube_comments[\"attention_mask\"]\n",
    "\n",
    "# Adding tokenized data to the original DataFrame for the test dataset\n",
    "df_test[\"input_ids\"] = input_ids_test.numpy().tolist()\n",
    "df_test[\"attention_mask\"] = attention_mask_test.numpy().tolist()"
   ]
  },
  {
   "cell_type": "code",
   "execution_count": 23,
   "metadata": {},
   "outputs": [
    {
     "data": {
      "text/html": [
       "<div>\n",
       "<style scoped>\n",
       "    .dataframe tbody tr th:only-of-type {\n",
       "        vertical-align: middle;\n",
       "    }\n",
       "\n",
       "    .dataframe tbody tr th {\n",
       "        vertical-align: top;\n",
       "    }\n",
       "\n",
       "    .dataframe thead th {\n",
       "        text-align: right;\n",
       "    }\n",
       "</style>\n",
       "<table border=\"1\" class=\"dataframe\">\n",
       "  <thead>\n",
       "    <tr style=\"text-align: right;\">\n",
       "      <th></th>\n",
       "      <th>Comment</th>\n",
       "      <th>Label</th>\n",
       "      <th>input_ids</th>\n",
       "      <th>attention_mask</th>\n",
       "    </tr>\n",
       "  </thead>\n",
       "  <tbody>\n",
       "    <tr>\n",
       "      <th>5</th>\n",
       "      <td>You guys are clueless about buyers agents. The...</td>\n",
       "      <td>0</td>\n",
       "      <td>[101, 2017, 4364, 2024, 9789, 3238, 2055, 1739...</td>\n",
       "      <td>[1, 1, 1, 1, 1, 1, 1, 1, 1, 1, 1, 1, 1, 1, 1, ...</td>\n",
       "    </tr>\n",
       "    <tr>\n",
       "      <th>7</th>\n",
       "      <td>This guy sounds like ChatGpt wrote him 😂</td>\n",
       "      <td>0</td>\n",
       "      <td>[101, 2023, 3124, 4165, 2066, 11834, 21600, 21...</td>\n",
       "      <td>[1, 1, 1, 1, 1, 1, 1, 1, 1, 1, 1, 1, 0, 0, 0, ...</td>\n",
       "    </tr>\n",
       "    <tr>\n",
       "      <th>10</th>\n",
       "      <td>These woke, sorry “red pill” takers, are going...</td>\n",
       "      <td>0</td>\n",
       "      <td>[101, 2122, 8271, 1010, 3374, 1523, 2417, 1735...</td>\n",
       "      <td>[1, 1, 1, 1, 1, 1, 1, 1, 1, 1, 1, 1, 1, 1, 1, ...</td>\n",
       "    </tr>\n",
       "    <tr>\n",
       "      <th>12</th>\n",
       "      <td>Jcal is killing it lately lol🤣</td>\n",
       "      <td>1</td>\n",
       "      <td>[101, 29175, 2389, 2003, 4288, 2009, 9906, 100...</td>\n",
       "      <td>[1, 1, 1, 1, 1, 1, 1, 1, 1, 0, 0, 0, 0, 0, 0, ...</td>\n",
       "    </tr>\n",
       "    <tr>\n",
       "      <th>15</th>\n",
       "      <td>I love you JCAL!!</td>\n",
       "      <td>1</td>\n",
       "      <td>[101, 1045, 2293, 2017, 29175, 2389, 999, 999,...</td>\n",
       "      <td>[1, 1, 1, 1, 1, 1, 1, 1, 1, 0, 0, 0, 0, 0, 0, ...</td>\n",
       "    </tr>\n",
       "  </tbody>\n",
       "</table>\n",
       "</div>"
      ],
      "text/plain": [
       "                                              Comment  Label  \\\n",
       "5   You guys are clueless about buyers agents. The...      0   \n",
       "7            This guy sounds like ChatGpt wrote him 😂      0   \n",
       "10  These woke, sorry “red pill” takers, are going...      0   \n",
       "12                     Jcal is killing it lately lol🤣      1   \n",
       "15                                  I love you JCAL!!      1   \n",
       "\n",
       "                                            input_ids  \\\n",
       "5   [101, 2017, 4364, 2024, 9789, 3238, 2055, 1739...   \n",
       "7   [101, 2023, 3124, 4165, 2066, 11834, 21600, 21...   \n",
       "10  [101, 2122, 8271, 1010, 3374, 1523, 2417, 1735...   \n",
       "12  [101, 29175, 2389, 2003, 4288, 2009, 9906, 100...   \n",
       "15  [101, 1045, 2293, 2017, 29175, 2389, 999, 999,...   \n",
       "\n",
       "                                       attention_mask  \n",
       "5   [1, 1, 1, 1, 1, 1, 1, 1, 1, 1, 1, 1, 1, 1, 1, ...  \n",
       "7   [1, 1, 1, 1, 1, 1, 1, 1, 1, 1, 1, 1, 0, 0, 0, ...  \n",
       "10  [1, 1, 1, 1, 1, 1, 1, 1, 1, 1, 1, 1, 1, 1, 1, ...  \n",
       "12  [1, 1, 1, 1, 1, 1, 1, 1, 1, 0, 0, 0, 0, 0, 0, ...  \n",
       "15  [1, 1, 1, 1, 1, 1, 1, 1, 1, 0, 0, 0, 0, 0, 0, ...  "
      ]
     },
     "execution_count": 23,
     "metadata": {},
     "output_type": "execute_result"
    }
   ],
   "source": [
    "df_test.head()"
   ]
  },
  {
   "cell_type": "code",
   "execution_count": 24,
   "metadata": {},
   "outputs": [
    {
     "name": "stdout",
     "output_type": "stream",
     "text": [
      "Input IDs Tensor Shape: (149, 103)\n",
      "Attention Mask Tensor Shape: (149, 103)\n"
     ]
    }
   ],
   "source": [
    "# Extracting input IDs and attention masks from the DataFrame\n",
    "input_ids_test = df_test[\"input_ids\"].tolist()\n",
    "attention_mask_test = df_test[\"attention_mask\"].tolist()\n",
    "\n",
    "# Converting lists to TensorFlow tensors\n",
    "input_ids_tensor = tf.convert_to_tensor(input_ids_test, dtype=tf.int32)\n",
    "attention_mask_tensor = tf.convert_to_tensor(attention_mask_test, dtype=tf.int32)\n",
    "\n",
    "# Displaying the shapes of the tensors\n",
    "print(\"Input IDs Tensor Shape:\", input_ids_tensor.shape)\n",
    "print(\"Attention Mask Tensor Shape:\", attention_mask_tensor.shape)"
   ]
  },
  {
   "cell_type": "code",
   "execution_count": 31,
   "metadata": {},
   "outputs": [],
   "source": [
    "model_path = \"../NLP_model/best_sentiment_model\"\n",
    "\n",
    "loaded_model = tf.saved_model.load(model_path)"
   ]
  }
 ],
 "metadata": {
  "kernelspec": {
   "display_name": "Python 3",
   "language": "python",
   "name": "python3"
  },
  "language_info": {
   "codemirror_mode": {
    "name": "ipython",
    "version": 3
   },
   "file_extension": ".py",
   "mimetype": "text/x-python",
   "name": "python",
   "nbconvert_exporter": "python",
   "pygments_lexer": "ipython3",
   "version": "3.11.6"
  }
 },
 "nbformat": 4,
 "nbformat_minor": 2
}
